{
 "cells": [
  {
   "cell_type": "markdown",
   "metadata": {},
   "source": [
    "## Overview\n",
    "\n",
    "This notebook will show you how to create and query a table or DataFrame that you uploaded to DBFS. [DBFS](https://docs.databricks.com/user-guide/dbfs-databricks-file-system.html) is a Databricks File System that allows you to store data for querying inside of Databricks. This notebook assumes that you have a file already inside of DBFS that you would like to read from.\n",
    "\n",
    "This notebook is written in **Python** so the default cell type is Python. However, you can use different languages by using the `%LANGUAGE` syntax. Python, Scala, SQL, and R are all supported."
   ]
  },
  {
   "cell_type": "code",
   "execution_count": 2,
   "metadata": {},
   "outputs": [],
   "source": [
    "# Importação Bibliotecas\n",
    "from pyspark.sql import SparkSession\n",
    "from pyspark import HiveContext\n",
    "from pyspark.sql.functions import monotonically_increasing_id\n",
    "from pyspark.ml.linalg import Vectors\n",
    "from pyspark.ml.feature import VectorAssembler\n",
    "from pyspark.ml.evaluation import RegressionEvaluator\n",
    "from pyspark.ml.classification import LogisticRegression, LogisticRegressionModel\n",
    "from pyspark.mllib.evaluation import BinaryClassificationMetrics as metric\n",
    "from pyspark.ml.feature import OneHotEncoder, StringIndexer, VectorAssembler,OneHotEncoder\n",
    "from pyspark.ml.classification import RandomForestClassifier, RandomForestClassificationModel\n",
    "from pyspark.mllib.evaluation import BinaryClassificationMetrics as metric\n",
    "from pyspark.ml import Pipeline\n"
   ]
  },
  {
   "cell_type": "code",
   "execution_count": 3,
   "metadata": {},
   "outputs": [
    {
     "data": {
      "text/plain": [
       "[('spark.sql.catalogImplementation', 'hive'),\n",
       " ('spark.rdd.compress', 'True'),\n",
       " ('spark.driver.host', '10.30.30.21'),\n",
       " ('spark.app.id', 'local-1559699171437'),\n",
       " ('spark.serializer.objectStreamReset', '100'),\n",
       " ('spark.master', 'local[*]'),\n",
       " ('spark.executor.id', 'driver'),\n",
       " ('spark.submit.deployMode', 'client'),\n",
       " ('spark.app.name', 'PySparkShell'),\n",
       " ('spark.driver.port', '35371')]"
      ]
     },
     "execution_count": 3,
     "metadata": {},
     "output_type": "execute_result"
    }
   ],
   "source": [
    "spark.sparkContext._conf.getAll()"
   ]
  },
  {
   "cell_type": "code",
   "execution_count": 4,
   "metadata": {},
   "outputs": [],
   "source": [
    "conf = spark.sparkContext._conf.setAll([\n",
    "(\"hive.metastore.uris\", \"thrift://localhost:9083\")])"
   ]
  },
  {
   "cell_type": "code",
   "execution_count": 5,
   "metadata": {},
   "outputs": [],
   "source": [
    "spark.stop()"
   ]
  },
  {
   "cell_type": "code",
   "execution_count": 6,
   "metadata": {},
   "outputs": [],
   "source": [
    "sc = SparkContext()"
   ]
  },
  {
   "cell_type": "code",
   "execution_count": 7,
   "metadata": {},
   "outputs": [
    {
     "data": {
      "text/plain": [
       "[('spark.sql.catalogImplementation', 'hive'),\n",
       " ('spark.rdd.compress', 'True'),\n",
       " ('spark.driver.host', '10.30.30.21'),\n",
       " ('spark.app.id', 'local-1559699171437'),\n",
       " ('hive.metastore.uris', 'thrift://localhost:9083'),\n",
       " ('spark.serializer.objectStreamReset', '100'),\n",
       " ('spark.master', 'local[*]'),\n",
       " ('spark.executor.id', 'driver'),\n",
       " ('spark.submit.deployMode', 'client'),\n",
       " ('spark.app.name', 'PySparkShell'),\n",
       " ('spark.driver.port', '35371')]"
      ]
     },
     "execution_count": 7,
     "metadata": {},
     "output_type": "execute_result"
    }
   ],
   "source": [
    "spark.sparkContext._conf.getAll()"
   ]
  },
  {
   "cell_type": "code",
   "execution_count": 8,
   "metadata": {},
   "outputs": [
    {
     "name": "stdout",
     "output_type": "stream",
     "text": [
      "+--------+---------------+-----------+\n",
      "|database|      tableName|isTemporary|\n",
      "+--------+---------------+-----------+\n",
      "| default|boosting_output|      false|\n",
      "+--------+---------------+-----------+\n",
      "\n"
     ]
    }
   ],
   "source": [
    "df = spark.sql(\"SHOW TABLES\")\n",
    "df.show()"
   ]
  },
  {
   "cell_type": "code",
   "execution_count": 9,
   "metadata": {},
   "outputs": [],
   "source": [
    "spark = SparkSession.builder.config(conf=conf).getOrCreate()"
   ]
  },
  {
   "cell_type": "code",
   "execution_count": 10,
   "metadata": {},
   "outputs": [],
   "source": [
    "# Carga do Arquivo via HDFS\n",
    "#file_location = \"/FileStore/tables/bank_additional_full_no_header-a99ad.csv\"\n",
    "file_location = 'hdfs:///user/labdata/marketing/bank-additional-full.csv'\n",
    "file_type = \"csv\"\n",
    "\n",
    "# CSV options\n",
    "infer_schema = \"true\"\n",
    "first_row_is_header = \"false\"\n",
    "delimiter = \";\"\n",
    "\n",
    "# The applied options are for CSV files. For other file types, these will be ignored.\n",
    "df_marketing_data = spark.read.format(file_type) \\\n",
    "  .option(\"inferSchema\", infer_schema) \\\n",
    "  .option(\"header\", first_row_is_header) \\\n",
    "  .option(\"sep\", delimiter) \\\n",
    "  .load(file_location)\n",
    "\n"
   ]
  },
  {
   "cell_type": "code",
   "execution_count": 11,
   "metadata": {},
   "outputs": [
    {
     "name": "stdout",
     "output_type": "stream",
     "text": [
      "root\n",
      " |-- age: integer (nullable = true)\n",
      " |-- job: string (nullable = true)\n",
      " |-- marital: string (nullable = true)\n",
      " |-- education: string (nullable = true)\n",
      " |-- default: string (nullable = true)\n",
      " |-- housing: string (nullable = true)\n",
      " |-- loan: string (nullable = true)\n",
      " |-- contact: string (nullable = true)\n",
      " |-- month: string (nullable = true)\n",
      " |-- day_of_week: string (nullable = true)\n",
      " |-- campaign: integer (nullable = true)\n",
      " |-- pdays: integer (nullable = true)\n",
      " |-- previous: integer (nullable = true)\n",
      " |-- poutcome: string (nullable = true)\n",
      " |-- emp_var_rate: double (nullable = true)\n",
      " |-- cons_price_idx: double (nullable = true)\n",
      " |-- cons_conf_idx: double (nullable = true)\n",
      " |-- euribor3m: double (nullable = true)\n",
      " |-- nr_employed: double (nullable = true)\n",
      " |-- deposit: string (nullable = true)\n",
      "\n"
     ]
    }
   ],
   "source": [
    "# Definição dos Nomes de Variaveis\n",
    "DefColumnNames=df_marketing_data.schema.names\n",
    "HeaderNames=['age','job','marital','education','default','housing','loan','contact','month','day_of_week','duration','campaign','pdays','previous',\t'poutcome','emp_var_rate','cons_price_idx','cons_conf_idx','euribor3m','nr_employed','deposit']\n",
    "\n",
    "for Idx in range(0,21):\n",
    "    df_marketing_data=df_marketing_data.withColumnRenamed(DefColumnNames[Idx],HeaderNames[Idx])\n",
    "df_marketing_data = df_marketing_data.drop ('duration')\n",
    "df_marketing_data.printSchema()"
   ]
  },
  {
   "cell_type": "code",
   "execution_count": 12,
   "metadata": {},
   "outputs": [
    {
     "name": "stdout",
     "output_type": "stream",
     "text": [
      "['job', 'marital', 'education', 'default', 'housing', 'loan', 'contact', 'month', 'day_of_week', 'poutcome', 'deposit']\n",
      "['age', 'campaign', 'pdays', 'previous', 'emp_var_rate', 'cons_price_idx', 'cons_conf_idx', 'euribor3m', 'nr_employed']\n"
     ]
    }
   ],
   "source": [
    "# Segregação Variaveis Categoricas e Numericas em Listas Específicas\n",
    "categoricalColumns = []\n",
    "numericCols = []\n",
    "for i in df_marketing_data.dtypes:\n",
    "    if i[1]=='string':\n",
    "        categoricalColumns  += [i[0]]\n",
    "    elif i[1]=='int' or i[1]=='double':\n",
    "        numericCols  += [i[0]]\n",
    "\n",
    "print(categoricalColumns)\n",
    "print(numericCols)"
   ]
  },
  {
   "cell_type": "code",
   "execution_count": 13,
   "metadata": {},
   "outputs": [],
   "source": [
    "# Tratamento de Variáveis Categoricas\n",
    "stages = [] \n",
    "for categoricalCol in categoricalColumns:\n",
    "  stringIndexer = StringIndexer(inputCol=categoricalCol, outputCol=categoricalCol+\"Index\")\n",
    "  encoder = OneHotEncoder(inputCol=categoricalCol+\"Index\", outputCol=categoricalCol+\"classVec\")\n",
    "  stages += [stringIndexer, encoder]\n",
    "  \n",
    "#numericCols = ['age', 'balance', 'duration', 'campaign', 'pdays', 'previous']  \n",
    "label_stringIdx = StringIndexer(inputCol = \"deposit\", outputCol = \"label\")\n",
    "stages += [label_stringIdx]\n",
    "\n"
   ]
  },
  {
   "cell_type": "code",
   "execution_count": 14,
   "metadata": {},
   "outputs": [],
   "source": [
    "## Assembler Inputs\n",
    "assemblerInputs = ['jobclassVec', 'maritalclassVec', 'educationclassVec', 'defaultclassVec', 'housingclassVec', 'loanclassVec', 'contactclassVec', 'monthclassVec','day_of_weekclassVec','poutcomeclassVec'] + numericCols\n",
    "assembler = VectorAssembler(inputCols=assemblerInputs, outputCol=\"features\")\n",
    "stages += [assembler]\n"
   ]
  },
  {
   "cell_type": "code",
   "execution_count": 15,
   "metadata": {},
   "outputs": [
    {
     "name": "stdout",
     "output_type": "stream",
     "text": [
      "root\n",
      " |-- age: integer (nullable = true)\n",
      " |-- job: string (nullable = true)\n",
      " |-- marital: string (nullable = true)\n",
      " |-- education: string (nullable = true)\n",
      " |-- default: string (nullable = true)\n",
      " |-- housing: string (nullable = true)\n",
      " |-- loan: string (nullable = true)\n",
      " |-- contact: string (nullable = true)\n",
      " |-- month: string (nullable = true)\n",
      " |-- day_of_week: string (nullable = true)\n",
      " |-- campaign: integer (nullable = true)\n",
      " |-- pdays: integer (nullable = true)\n",
      " |-- previous: integer (nullable = true)\n",
      " |-- poutcome: string (nullable = true)\n",
      " |-- emp_var_rate: double (nullable = true)\n",
      " |-- cons_price_idx: double (nullable = true)\n",
      " |-- cons_conf_idx: double (nullable = true)\n",
      " |-- euribor3m: double (nullable = true)\n",
      " |-- nr_employed: double (nullable = true)\n",
      " |-- deposit: string (nullable = true)\n",
      " |-- jobIndex: double (nullable = true)\n",
      " |-- jobclassVec: vector (nullable = true)\n",
      " |-- maritalIndex: double (nullable = true)\n",
      " |-- maritalclassVec: vector (nullable = true)\n",
      " |-- educationIndex: double (nullable = true)\n",
      " |-- educationclassVec: vector (nullable = true)\n",
      " |-- defaultIndex: double (nullable = true)\n",
      " |-- defaultclassVec: vector (nullable = true)\n",
      " |-- housingIndex: double (nullable = true)\n",
      " |-- housingclassVec: vector (nullable = true)\n",
      " |-- loanIndex: double (nullable = true)\n",
      " |-- loanclassVec: vector (nullable = true)\n",
      " |-- contactIndex: double (nullable = true)\n",
      " |-- contactclassVec: vector (nullable = true)\n",
      " |-- monthIndex: double (nullable = true)\n",
      " |-- monthclassVec: vector (nullable = true)\n",
      " |-- day_of_weekIndex: double (nullable = true)\n",
      " |-- day_of_weekclassVec: vector (nullable = true)\n",
      " |-- poutcomeIndex: double (nullable = true)\n",
      " |-- poutcomeclassVec: vector (nullable = true)\n",
      " |-- depositIndex: double (nullable = true)\n",
      " |-- depositclassVec: vector (nullable = true)\n",
      " |-- label: double (nullable = true)\n",
      " |-- features: vector (nullable = true)\n",
      "\n"
     ]
    }
   ],
   "source": [
    "## PipeLine\n",
    "pipeline = Pipeline(stages=stages)\n",
    "pipelineModel = pipeline.fit(df_marketing_data)\n",
    "df_marketing_data_prep = pipelineModel.transform(df_marketing_data)\n",
    "df_marketing_data_prep.printSchema()"
   ]
  },
  {
   "cell_type": "code",
   "execution_count": 16,
   "metadata": {},
   "outputs": [
    {
     "data": {
      "text/plain": [
       "[Row(age=56, job='housemaid', marital='married', education='basic.4y', default='no', housing='no', loan='no', contact='telephone', month='may', day_of_week='mon', campaign=1, pdays=999, previous=0, poutcome='nonexistent', emp_var_rate=1.1, cons_price_idx=93.994, cons_conf_idx=-36.4, euribor3m=4.857, nr_employed=5191.0, deposit='no', jobIndex=8.0, jobclassVec=SparseVector(11, {8: 1.0}), maritalIndex=0.0, maritalclassVec=SparseVector(3, {0: 1.0}), educationIndex=4.0, educationclassVec=SparseVector(7, {4: 1.0}), defaultIndex=0.0, defaultclassVec=SparseVector(2, {0: 1.0}), housingIndex=1.0, housingclassVec=SparseVector(2, {1: 1.0}), loanIndex=0.0, loanclassVec=SparseVector(2, {0: 1.0}), contactIndex=1.0, contactclassVec=SparseVector(1, {}), monthIndex=0.0, monthclassVec=SparseVector(9, {0: 1.0}), day_of_weekIndex=1.0, day_of_weekclassVec=SparseVector(4, {1: 1.0}), poutcomeIndex=0.0, poutcomeclassVec=SparseVector(2, {0: 1.0}), depositIndex=0.0, depositclassVec=SparseVector(1, {0: 1.0}), label=0.0, features=SparseVector(52, {8: 1.0, 11: 1.0, 18: 1.0, 21: 1.0, 24: 1.0, 25: 1.0, 28: 1.0, 38: 1.0, 41: 1.0, 43: 56.0, 44: 1.0, 45: 999.0, 47: 1.1, 48: 93.994, 49: -36.4, 50: 4.857, 51: 5191.0})),\n",
       " Row(age=57, job='services', marital='married', education='high.school', default='unknown', housing='no', loan='no', contact='telephone', month='may', day_of_week='mon', campaign=1, pdays=999, previous=0, poutcome='nonexistent', emp_var_rate=1.1, cons_price_idx=93.994, cons_conf_idx=-36.4, euribor3m=4.857, nr_employed=5191.0, deposit='no', jobIndex=3.0, jobclassVec=SparseVector(11, {3: 1.0}), maritalIndex=0.0, maritalclassVec=SparseVector(3, {0: 1.0}), educationIndex=1.0, educationclassVec=SparseVector(7, {1: 1.0}), defaultIndex=1.0, defaultclassVec=SparseVector(2, {1: 1.0}), housingIndex=1.0, housingclassVec=SparseVector(2, {1: 1.0}), loanIndex=0.0, loanclassVec=SparseVector(2, {0: 1.0}), contactIndex=1.0, contactclassVec=SparseVector(1, {}), monthIndex=0.0, monthclassVec=SparseVector(9, {0: 1.0}), day_of_weekIndex=1.0, day_of_weekclassVec=SparseVector(4, {1: 1.0}), poutcomeIndex=0.0, poutcomeclassVec=SparseVector(2, {0: 1.0}), depositIndex=0.0, depositclassVec=SparseVector(1, {0: 1.0}), label=0.0, features=SparseVector(52, {3: 1.0, 11: 1.0, 15: 1.0, 22: 1.0, 24: 1.0, 25: 1.0, 28: 1.0, 38: 1.0, 41: 1.0, 43: 57.0, 44: 1.0, 45: 999.0, 47: 1.1, 48: 93.994, 49: -36.4, 50: 4.857, 51: 5191.0})),\n",
       " Row(age=37, job='services', marital='married', education='high.school', default='no', housing='yes', loan='no', contact='telephone', month='may', day_of_week='mon', campaign=1, pdays=999, previous=0, poutcome='nonexistent', emp_var_rate=1.1, cons_price_idx=93.994, cons_conf_idx=-36.4, euribor3m=4.857, nr_employed=5191.0, deposit='no', jobIndex=3.0, jobclassVec=SparseVector(11, {3: 1.0}), maritalIndex=0.0, maritalclassVec=SparseVector(3, {0: 1.0}), educationIndex=1.0, educationclassVec=SparseVector(7, {1: 1.0}), defaultIndex=0.0, defaultclassVec=SparseVector(2, {0: 1.0}), housingIndex=0.0, housingclassVec=SparseVector(2, {0: 1.0}), loanIndex=0.0, loanclassVec=SparseVector(2, {0: 1.0}), contactIndex=1.0, contactclassVec=SparseVector(1, {}), monthIndex=0.0, monthclassVec=SparseVector(9, {0: 1.0}), day_of_weekIndex=1.0, day_of_weekclassVec=SparseVector(4, {1: 1.0}), poutcomeIndex=0.0, poutcomeclassVec=SparseVector(2, {0: 1.0}), depositIndex=0.0, depositclassVec=SparseVector(1, {0: 1.0}), label=0.0, features=SparseVector(52, {3: 1.0, 11: 1.0, 15: 1.0, 21: 1.0, 23: 1.0, 25: 1.0, 28: 1.0, 38: 1.0, 41: 1.0, 43: 37.0, 44: 1.0, 45: 999.0, 47: 1.1, 48: 93.994, 49: -36.4, 50: 4.857, 51: 5191.0})),\n",
       " Row(age=40, job='admin.', marital='married', education='basic.6y', default='no', housing='no', loan='no', contact='telephone', month='may', day_of_week='mon', campaign=1, pdays=999, previous=0, poutcome='nonexistent', emp_var_rate=1.1, cons_price_idx=93.994, cons_conf_idx=-36.4, euribor3m=4.857, nr_employed=5191.0, deposit='no', jobIndex=0.0, jobclassVec=SparseVector(11, {0: 1.0}), maritalIndex=0.0, maritalclassVec=SparseVector(3, {0: 1.0}), educationIndex=5.0, educationclassVec=SparseVector(7, {5: 1.0}), defaultIndex=0.0, defaultclassVec=SparseVector(2, {0: 1.0}), housingIndex=1.0, housingclassVec=SparseVector(2, {1: 1.0}), loanIndex=0.0, loanclassVec=SparseVector(2, {0: 1.0}), contactIndex=1.0, contactclassVec=SparseVector(1, {}), monthIndex=0.0, monthclassVec=SparseVector(9, {0: 1.0}), day_of_weekIndex=1.0, day_of_weekclassVec=SparseVector(4, {1: 1.0}), poutcomeIndex=0.0, poutcomeclassVec=SparseVector(2, {0: 1.0}), depositIndex=0.0, depositclassVec=SparseVector(1, {0: 1.0}), label=0.0, features=SparseVector(52, {0: 1.0, 11: 1.0, 19: 1.0, 21: 1.0, 24: 1.0, 25: 1.0, 28: 1.0, 38: 1.0, 41: 1.0, 43: 40.0, 44: 1.0, 45: 999.0, 47: 1.1, 48: 93.994, 49: -36.4, 50: 4.857, 51: 5191.0})),\n",
       " Row(age=56, job='services', marital='married', education='high.school', default='no', housing='no', loan='yes', contact='telephone', month='may', day_of_week='mon', campaign=1, pdays=999, previous=0, poutcome='nonexistent', emp_var_rate=1.1, cons_price_idx=93.994, cons_conf_idx=-36.4, euribor3m=4.857, nr_employed=5191.0, deposit='no', jobIndex=3.0, jobclassVec=SparseVector(11, {3: 1.0}), maritalIndex=0.0, maritalclassVec=SparseVector(3, {0: 1.0}), educationIndex=1.0, educationclassVec=SparseVector(7, {1: 1.0}), defaultIndex=0.0, defaultclassVec=SparseVector(2, {0: 1.0}), housingIndex=1.0, housingclassVec=SparseVector(2, {1: 1.0}), loanIndex=1.0, loanclassVec=SparseVector(2, {1: 1.0}), contactIndex=1.0, contactclassVec=SparseVector(1, {}), monthIndex=0.0, monthclassVec=SparseVector(9, {0: 1.0}), day_of_weekIndex=1.0, day_of_weekclassVec=SparseVector(4, {1: 1.0}), poutcomeIndex=0.0, poutcomeclassVec=SparseVector(2, {0: 1.0}), depositIndex=0.0, depositclassVec=SparseVector(1, {0: 1.0}), label=0.0, features=SparseVector(52, {3: 1.0, 11: 1.0, 15: 1.0, 21: 1.0, 24: 1.0, 26: 1.0, 28: 1.0, 38: 1.0, 41: 1.0, 43: 56.0, 44: 1.0, 45: 999.0, 47: 1.1, 48: 93.994, 49: -36.4, 50: 4.857, 51: 5191.0}))]"
      ]
     },
     "execution_count": 16,
     "metadata": {},
     "output_type": "execute_result"
    }
   ],
   "source": [
    "df_marketing_data_prep.take(5)\n"
   ]
  },
  {
   "cell_type": "code",
   "execution_count": 17,
   "metadata": {},
   "outputs": [],
   "source": [
    "#Configurando o modelo para 100 iterações\n",
    "modelo =  LogisticRegression(labelCol='label',featuresCol=\"features\",maxIter=100)"
   ]
  },
  {
   "cell_type": "code",
   "execution_count": 18,
   "metadata": {},
   "outputs": [],
   "source": [
    "# Divisão Teste/Treino\n",
    "(marketing_model_treino, marketing_model_teste) = df_marketing_data_prep.randomSplit([0.7, 0.3])"
   ]
  },
  {
   "cell_type": "code",
   "execution_count": 19,
   "metadata": {},
   "outputs": [],
   "source": [
    "# Ajuste Modelo\n",
    "modelo_treino = modelo.fit(marketing_model_treino)"
   ]
  },
  {
   "cell_type": "code",
   "execution_count": 20,
   "metadata": {},
   "outputs": [
    {
     "name": "stdout",
     "output_type": "stream",
     "text": [
      "Coefficients: [0.07228744920214636,-0.1823426344642905,0.043058670779412216,-0.01883575734932906,0.020471150492064376,0.309900243321121,0.15349816856792098,-0.06432047069863493,-0.1400150462940802,-0.0020656788686110547,0.24121218200088926,-0.016954238633392234,0.02325671326311776,-0.04222564404035784,0.054928930286601604,-0.08017466339569781,-0.035961927604345405,0.005322309614727278,-0.01938181814730077,0.07707091629458984,0.0737844541872536,0.12767177016763268,-0.12429696421317507,-0.006856637409988468,0.02712818241933672,0.014291818446949078,0.022766872495474766,0.4456242753007335,-0.5384796111547651,0.34323584560280646,0.07928836381942911,0.2193636673715537,-0.1788984376052925,0.10988741726505098,0.10930592451426166,-0.09864335736514403,1.2179087053600615,0.039407318052363,-0.23409843802890684,0.13166500396570288,0.022384823939739673,-0.037130229052209335,-0.5670373053301918,0.0005058246587037442,-0.043753943610546873,-0.0014133142529665966,-0.018416573586666075,-0.17781047722186252,0.3199016396093426,0.024852701484729234,-0.14656094785240206,-0.00533649993525627]\n",
      "Intercept: -2.0689878211161257\n"
     ]
    }
   ],
   "source": [
    "print(\"Coefficients: \" + str(modelo_treino.coefficients))\n",
    "print(\"Intercept: \" + str(modelo_treino.intercept))"
   ]
  },
  {
   "cell_type": "code",
   "execution_count": 21,
   "metadata": {},
   "outputs": [
    {
     "name": "stdout",
     "output_type": "stream",
     "text": [
      "<pyspark.sql.dataframe.DataFrameStatFunctions object at 0x7f12dc7a0f28>\n"
     ]
    }
   ],
   "source": [
    "## Sumario\n",
    "print(modelo_treino.summary.predictions.stat)"
   ]
  },
  {
   "cell_type": "code",
   "execution_count": 22,
   "metadata": {},
   "outputs": [],
   "source": [
    "# Salva o Modelo no HDFS\n",
    "hdfs_path = \"/user/labdata/modelo_LR\"\n",
    "modelo_treino.write().overwrite().save(hdfs_path)"
   ]
  },
  {
   "cell_type": "code",
   "execution_count": 23,
   "metadata": {},
   "outputs": [],
   "source": [
    "# Regressão Logística\n",
    "modelo_treino2 = LogisticRegressionModel.load(hdfs_path)"
   ]
  },
  {
   "cell_type": "code",
   "execution_count": 24,
   "metadata": {},
   "outputs": [],
   "source": [
    "## Executa a Predição\n",
    "predict = modelo_treino2.transform(marketing_model_treino)"
   ]
  },
  {
   "cell_type": "code",
   "execution_count": 25,
   "metadata": {},
   "outputs": [
    {
     "name": "stdout",
     "output_type": "stream",
     "text": [
      "+---+-----------+-------+-----------+-------+-------+----+---------+-----+-----------+--------+-----+--------+-----------+------------+--------------+-------------+---------+-----------+-------+--------+---------------+------------+---------------+--------------+-----------------+------------+---------------+------------+---------------+---------+-------------+------------+---------------+----------+-------------+----------------+-------------------+-------------+----------------+------------+---------------+-----+--------------------+--------------------+--------------------+----------+\n",
      "|age|        job|marital|  education|default|housing|loan|  contact|month|day_of_week|campaign|pdays|previous|   poutcome|emp_var_rate|cons_price_idx|cons_conf_idx|euribor3m|nr_employed|deposit|jobIndex|    jobclassVec|maritalIndex|maritalclassVec|educationIndex|educationclassVec|defaultIndex|defaultclassVec|housingIndex|housingclassVec|loanIndex| loanclassVec|contactIndex|contactclassVec|monthIndex|monthclassVec|day_of_weekIndex|day_of_weekclassVec|poutcomeIndex|poutcomeclassVec|depositIndex|depositclassVec|label|            features|       rawPrediction|         probability|prediction|\n",
      "+---+-----------+-------+-----------+-------+-------+----+---------+-----+-----------+--------+-----+--------+-----------+------------+--------------+-------------+---------+-----------+-------+--------+---------------+------------+---------------+--------------+-----------------+------------+---------------+------------+---------------+---------+-------------+------------+---------------+----------+-------------+----------------+-------------------+-------------+----------------+------------+---------------+-----+--------------------+--------------------+--------------------+----------+\n",
      "| 18|    student| single|high.school|     no|     no|  no|telephone|  nov|        thu|       1|  999|       0|nonexistent|        -0.1|          93.2|        -42.0|    4.245|     5195.8|     no|    10.0|(11,[10],[1.0])|         1.0|  (3,[1],[1.0])|           1.0|    (7,[1],[1.0])|         0.0|  (2,[0],[1.0])|         1.0|  (2,[1],[1.0])|      0.0|(2,[0],[1.0])|         1.0|      (1,[],[])|       4.0|(9,[4],[1.0])|             0.0|      (4,[0],[1.0])|          0.0|   (2,[0],[1.0])|         0.0|  (1,[0],[1.0])|  0.0|(52,[10,12,15,21,...|[2.89951039557023...|[0.94782222871966...|       0.0|\n",
      "| 18|    student| single|high.school|     no|    yes| yes| cellular|  mar|        tue|       1|  999|       0|nonexistent|        -1.8|        92.843|        -50.0|    1.687|     5099.1|     no|    10.0|(11,[10],[1.0])|         1.0|  (3,[1],[1.0])|           1.0|    (7,[1],[1.0])|         0.0|  (2,[0],[1.0])|         0.0|  (2,[0],[1.0])|      1.0|(2,[1],[1.0])|         0.0|  (1,[0],[1.0])|       8.0|(9,[8],[1.0])|             3.0|      (4,[3],[1.0])|          0.0|   (2,[0],[1.0])|         0.0|  (1,[0],[1.0])|  0.0|(52,[10,12,15,21,...|[0.21941747479304...|[0.55463534723906...|       0.0|\n",
      "| 19|    student| single|   basic.4y|     no|     no| yes| cellular|  apr|        wed|       2|  999|       0|nonexistent|        -1.8|        93.075|        -47.1|    1.405|     5099.1|    yes|    10.0|(11,[10],[1.0])|         1.0|  (3,[1],[1.0])|           4.0|    (7,[4],[1.0])|         0.0|  (2,[0],[1.0])|         1.0|  (2,[1],[1.0])|      1.0|(2,[1],[1.0])|         0.0|  (1,[0],[1.0])|       5.0|(9,[5],[1.0])|             2.0|      (4,[2],[1.0])|          0.0|   (2,[0],[1.0])|         1.0|      (1,[],[])|  1.0|(52,[10,12,18,21,...|[0.97900883474675...|[0.72691150322555...|       0.0|\n",
      "| 19|    student| single|   basic.6y|     no|     no|  no| cellular|  mar|        tue|       1|  999|       0|nonexistent|        -1.8|        92.843|        -50.0|    1.556|     5099.1|    yes|    10.0|(11,[10],[1.0])|         1.0|  (3,[1],[1.0])|           5.0|    (7,[5],[1.0])|         0.0|  (2,[0],[1.0])|         1.0|  (2,[1],[1.0])|      0.0|(2,[0],[1.0])|         0.0|  (1,[0],[1.0])|       8.0|(9,[8],[1.0])|             3.0|      (4,[3],[1.0])|          0.0|   (2,[0],[1.0])|         1.0|      (1,[],[])|  1.0|(52,[10,12,19,21,...|[0.01695682049458...|[0.50423910355035...|       0.0|\n",
      "| 19|    student| single|   basic.9y|     no|     no|  no| cellular|  apr|        thu|       3|  999|       0|nonexistent|        -1.8|        93.075|        -47.1|     1.41|     5099.1|     no|    10.0|(11,[10],[1.0])|         1.0|  (3,[1],[1.0])|           2.0|    (7,[2],[1.0])|         0.0|  (2,[0],[1.0])|         1.0|  (2,[1],[1.0])|      0.0|(2,[0],[1.0])|         0.0|  (1,[0],[1.0])|       5.0|(9,[5],[1.0])|             0.0|      (4,[0],[1.0])|          0.0|   (2,[0],[1.0])|         0.0|  (1,[0],[1.0])|  0.0|(52,[10,12,16,21,...|[1.14080843251547...|[0.75782803726470...|       0.0|\n",
      "| 19|    student| single|   basic.9y|     no|     no|  no| cellular|  apr|        tue|       3|  999|       0|nonexistent|        -1.8|        93.075|        -47.1|    1.453|     5099.1|     no|    10.0|(11,[10],[1.0])|         1.0|  (3,[1],[1.0])|           2.0|    (7,[2],[1.0])|         0.0|  (2,[0],[1.0])|         1.0|  (2,[1],[1.0])|      0.0|(2,[0],[1.0])|         0.0|  (1,[0],[1.0])|       5.0|(9,[5],[1.0])|             3.0|      (4,[3],[1.0])|          0.0|   (2,[0],[1.0])|         0.0|  (1,[0],[1.0])|  0.0|(52,[10,12,16,21,...|[1.16413304738574...|[0.76208289975199...|       0.0|\n",
      "| 19|    student| single|   basic.9y|     no|    yes|  no| cellular|  apr|        tue|       1|  999|       0|nonexistent|        -1.8|        93.075|        -47.1|    1.453|     5099.1|    yes|    10.0|(11,[10],[1.0])|         1.0|  (3,[1],[1.0])|           2.0|    (7,[2],[1.0])|         0.0|  (2,[0],[1.0])|         0.0|  (2,[0],[1.0])|      0.0|(2,[0],[1.0])|         0.0|  (1,[0],[1.0])|       5.0|(9,[5],[1.0])|             3.0|      (4,[3],[1.0])|          0.0|   (2,[0],[1.0])|         1.0|      (1,[],[])|  1.0|(52,[10,12,16,21,...|[1.11060997999397...|[0.75224281307551...|       0.0|\n",
      "| 19|    student| single|high.school|unknown|    yes|  no| cellular|  may|        tue|       4|  999|       0|nonexistent|        -1.8|        92.893|        -46.2|    1.344|     5099.1|     no|    10.0|(11,[10],[1.0])|         1.0|  (3,[1],[1.0])|           1.0|    (7,[1],[1.0])|         1.0|  (2,[1],[1.0])|         0.0|  (2,[0],[1.0])|      0.0|(2,[0],[1.0])|         0.0|  (1,[0],[1.0])|       0.0|(9,[0],[1.0])|             3.0|      (4,[3],[1.0])|          0.0|   (2,[0],[1.0])|         0.0|  (1,[0],[1.0])|  0.0|(52,[10,12,15,22,...|[2.20629983317432...|[0.90081381321469...|       0.0|\n",
      "| 19|    student| single|    unknown|     no|     no|  no| cellular|  apr|        fri|       5|  999|       0|nonexistent|        -1.8|        93.075|        -47.1|    1.405|     5099.1|     no|    10.0|(11,[10],[1.0])|         1.0|  (3,[1],[1.0])|           6.0|    (7,[6],[1.0])|         0.0|  (2,[0],[1.0])|         1.0|  (2,[1],[1.0])|      0.0|(2,[0],[1.0])|         0.0|  (1,[0],[1.0])|       5.0|(9,[5],[1.0])|             4.0|          (4,[],[])|          0.0|   (2,[0],[1.0])|         0.0|  (1,[0],[1.0])|  0.0|(52,[10,12,20,21,...|[1.15724445125806...|[0.76083165677175...|       0.0|\n",
      "| 19|    student| single|    unknown|     no|    yes|  no| cellular|  apr|        mon|       2|  999|       0|nonexistent|        -1.8|        93.075|        -47.1|    1.405|     5099.1|     no|    10.0|(11,[10],[1.0])|         1.0|  (3,[1],[1.0])|           6.0|    (7,[6],[1.0])|         0.0|  (2,[0],[1.0])|         0.0|  (2,[0],[1.0])|      0.0|(2,[0],[1.0])|         0.0|  (1,[0],[1.0])|       5.0|(9,[5],[1.0])|             1.0|      (4,[1],[1.0])|          0.0|   (2,[0],[1.0])|         0.0|  (1,[0],[1.0])|  0.0|(52,[10,12,20,21,...|[1.29406587828465...|[0.78483458615805...|       0.0|\n",
      "| 19|    student| single|    unknown|     no|    yes|  no| cellular|  apr|        mon|       3|  999|       0|nonexistent|        -1.8|        93.075|        -47.1|    1.405|     5099.1|     no|    10.0|(11,[10],[1.0])|         1.0|  (3,[1],[1.0])|           6.0|    (7,[6],[1.0])|         0.0|  (2,[0],[1.0])|         0.0|  (2,[0],[1.0])|      0.0|(2,[0],[1.0])|         0.0|  (1,[0],[1.0])|       5.0|(9,[5],[1.0])|             1.0|      (4,[1],[1.0])|          0.0|   (2,[0],[1.0])|         0.0|  (1,[0],[1.0])|  0.0|(52,[10,12,20,21,...|[1.33781982189520...|[0.79213118331779...|       0.0|\n",
      "| 19|    student| single|    unknown|     no|    yes|  no|telephone|  apr|        fri|       5|  999|       0|nonexistent|        -1.8|        93.075|        -47.1|    1.405|     5099.1|     no|    10.0|(11,[10],[1.0])|         1.0|  (3,[1],[1.0])|           6.0|    (7,[6],[1.0])|         0.0|  (2,[0],[1.0])|         0.0|  (2,[0],[1.0])|      0.0|(2,[0],[1.0])|         1.0|      (1,[],[])|       5.0|(9,[5],[1.0])|             4.0|          (4,[],[])|          0.0|   (2,[0],[1.0])|         0.0|  (1,[0],[1.0])|  0.0|(52,[10,12,20,21,...|[1.63685354638812...|[0.83710634412517...|       0.0|\n",
      "| 19|    student| single|    unknown|     no|    yes|  no|telephone|  apr|        tue|       3|  999|       0|nonexistent|        -1.8|        93.075|        -47.1|    1.405|     5099.1|    yes|    10.0|(11,[10],[1.0])|         1.0|  (3,[1],[1.0])|           6.0|    (7,[6],[1.0])|         0.0|  (2,[0],[1.0])|         0.0|  (2,[0],[1.0])|      0.0|(2,[0],[1.0])|         1.0|      (1,[],[])|       5.0|(9,[5],[1.0])|             3.0|      (4,[3],[1.0])|          0.0|   (2,[0],[1.0])|         1.0|      (1,[],[])|  1.0|(52,[10,12,20,21,...|[1.52696083522729...|[0.82156121289229...|       0.0|\n",
      "| 19|    student| single|    unknown|     no|    yes| yes| cellular|  apr|        mon|       1|  999|       0|nonexistent|        -1.8|        93.075|        -47.1|    1.405|     5099.1|    yes|    10.0|(11,[10],[1.0])|         1.0|  (3,[1],[1.0])|           6.0|    (7,[6],[1.0])|         0.0|  (2,[0],[1.0])|         0.0|  (2,[0],[1.0])|      1.0|(2,[1],[1.0])|         0.0|  (1,[0],[1.0])|       5.0|(9,[5],[1.0])|             1.0|      (4,[1],[1.0])|          0.0|   (2,[0],[1.0])|         1.0|      (1,[],[])|  1.0|(52,[10,12,20,21,...|[1.24183688062558...|[0.77588358807788...|       0.0|\n",
      "| 19|    student| single|    unknown|     no|    yes| yes| cellular|  apr|        tue|       3|  999|       0|nonexistent|        -1.8|        93.075|        -47.1|    1.405|     5099.1|    yes|    10.0|(11,[10],[1.0])|         1.0|  (3,[1],[1.0])|           6.0|    (7,[6],[1.0])|         0.0|  (2,[0],[1.0])|         0.0|  (2,[0],[1.0])|      1.0|(2,[1],[1.0])|         0.0|  (1,[0],[1.0])|       5.0|(9,[5],[1.0])|             3.0|      (4,[3],[1.0])|          0.0|   (2,[0],[1.0])|         1.0|      (1,[],[])|  1.0|(52,[10,12,20,21,...|[1.07286150587803...|[0.74514071413737...|       0.0|\n",
      "| 20|     admin.| single|high.school|     no|     no|  no| cellular|  jul|        wed|       4|  999|       0|nonexistent|         1.4|        93.918|        -42.7|    4.962|     5228.1|     no|     0.0| (11,[0],[1.0])|         1.0|  (3,[1],[1.0])|           1.0|    (7,[1],[1.0])|         0.0|  (2,[0],[1.0])|         1.0|  (2,[1],[1.0])|      0.0|(2,[0],[1.0])|         0.0|  (1,[0],[1.0])|       1.0|(9,[1],[1.0])|             2.0|      (4,[2],[1.0])|          0.0|   (2,[0],[1.0])|         0.0|  (1,[0],[1.0])|  0.0|(52,[0,12,15,21,2...|[2.47054544261258...|[0.92205097647865...|       0.0|\n",
      "| 20|blue-collar|married|   basic.4y|     no|     no| yes| cellular|  jul|        tue|       1|  999|       0|nonexistent|         1.4|        93.918|        -42.7|    4.962|     5228.1|     no|     1.0| (11,[1],[1.0])|         0.0|  (3,[0],[1.0])|           4.0|    (7,[4],[1.0])|         0.0|  (2,[0],[1.0])|         1.0|  (2,[1],[1.0])|      1.0|(2,[1],[1.0])|         0.0|  (1,[0],[1.0])|       1.0|(9,[1],[1.0])|             3.0|      (4,[3],[1.0])|          0.0|   (2,[0],[1.0])|         0.0|  (1,[0],[1.0])|  0.0|(52,[1,11,18,21,2...|[2.67413692807293...|[0.93548316353592...|       0.0|\n",
      "| 20|blue-collar| single|   basic.9y|unknown|    yes|  no|telephone|  may|        fri|       4|  999|       0|nonexistent|        -1.8|        92.893|        -46.2|     1.25|     5099.1|     no|     1.0| (11,[1],[1.0])|         1.0|  (3,[1],[1.0])|           2.0|    (7,[2],[1.0])|         1.0|  (2,[1],[1.0])|         0.0|  (2,[0],[1.0])|      0.0|(2,[0],[1.0])|         1.0|      (1,[],[])|       0.0|(9,[0],[1.0])|             4.0|          (4,[],[])|          0.0|   (2,[0],[1.0])|         0.0|  (1,[0],[1.0])|  0.0|(52,[1,12,16,22,2...|[3.03936845933179...|[0.95432130689763...|       0.0|\n",
      "| 20|blue-collar| single|high.school|     no|    yes|  no| cellular|  may|        thu|       3|  999|       0|nonexistent|        -1.8|        92.893|        -46.2|    1.266|     5099.1|     no|     1.0| (11,[1],[1.0])|         1.0|  (3,[1],[1.0])|           1.0|    (7,[1],[1.0])|         0.0|  (2,[0],[1.0])|         0.0|  (2,[0],[1.0])|      0.0|(2,[0],[1.0])|         0.0|  (1,[0],[1.0])|       0.0|(9,[0],[1.0])|             0.0|      (4,[0],[1.0])|          0.0|   (2,[0],[1.0])|         0.0|  (1,[0],[1.0])|  0.0|(52,[1,12,15,21,2...|[2.30517189894433...|[0.90930446859060...|       0.0|\n",
      "| 20|blue-collar| single|high.school|     no|    yes|  no| cellular|  may|        wed|       1|  999|       0|nonexistent|        -1.8|        92.893|        -46.2|    1.334|     5099.1|     no|     1.0| (11,[1],[1.0])|         1.0|  (3,[1],[1.0])|           1.0|    (7,[1],[1.0])|         0.0|  (2,[0],[1.0])|         0.0|  (2,[0],[1.0])|      0.0|(2,[0],[1.0])|         0.0|  (1,[0],[1.0])|       0.0|(9,[0],[1.0])|             2.0|      (4,[2],[1.0])|          0.0|   (2,[0],[1.0])|         0.0|  (1,[0],[1.0])|  0.0|(52,[1,12,15,21,2...|[2.13537247026387...|[0.89429395706203...|       0.0|\n",
      "+---+-----------+-------+-----------+-------+-------+----+---------+-----+-----------+--------+-----+--------+-----------+------------+--------------+-------------+---------+-----------+-------+--------+---------------+------------+---------------+--------------+-----------------+------------+---------------+------------+---------------+---------+-------------+------------+---------------+----------+-------------+----------------+-------------------+-------------+----------------+------------+---------------+-----+--------------------+--------------------+--------------------+----------+\n",
      "only showing top 20 rows\n",
      "\n"
     ]
    }
   ],
   "source": [
    "## Exibe Predição\n",
    "predict.show()"
   ]
  },
  {
   "cell_type": "code",
   "execution_count": 26,
   "metadata": {},
   "outputs": [],
   "source": [
    "results = predict.select(['probability', 'label'])\n"
   ]
  },
  {
   "cell_type": "code",
   "execution_count": 27,
   "metadata": {},
   "outputs": [],
   "source": [
    "results_collect = results.collect()\n",
    "results_list = [(float(i[0][0]), 1.0-float(i[1])) for i in results_collect]\n",
    "scoreAndLabels = sc.parallelize(results_list)"
   ]
  },
  {
   "cell_type": "code",
   "execution_count": 28,
   "metadata": {},
   "outputs": [
    {
     "name": "stdout",
     "output_type": "stream",
     "text": [
      "The ROC score is (@iterações =100):  0.7935651781484536\n"
     ]
    }
   ],
   "source": [
    "# Exibe ROC\n",
    "metrics = metric(scoreAndLabels)\n",
    "print(\"The ROC score is (@iterações =100): \", metrics.areaUnderROC)"
   ]
  },
  {
   "cell_type": "code",
   "execution_count": 29,
   "metadata": {},
   "outputs": [
    {
     "data": {
      "image/png": "[encoded data removed]",
      "text/plain": [
       "<Figure size 432x288 with 1 Axes>"
      ]
     },
     "metadata": {
      "needs_background": "light"
     },
     "output_type": "display_data"
    }
   ],
   "source": [
    "from sklearn.metrics import roc_curve, auc\n",
    "from matplotlib import pyplot as plt\n",
    " \n",
    "fpr = dict()\n",
    "tpr = dict()\n",
    "roc_auc = dict()\n",
    " \n",
    "y_test = [i[1] for i in results_list]\n",
    "y_score = [i[0] for i in results_list]\n",
    " \n",
    "fpr, tpr, _ = roc_curve(y_test, y_score)\n",
    "roc_auc = auc(fpr, tpr)\n",
    " \n",
    "get_ipython().run_line_magic('matplotlib', 'inline')\n",
    "plt.figure()\n",
    "plt.plot(fpr, tpr, label='ROC curve (area = %0.2f)' % roc_auc)\n",
    "plt.plot([0, 1], [0, 1], 'k--')\n",
    "plt.xlim([0.0, 1.0])\n",
    "plt.ylim([0.0, 1.05])\n",
    "plt.xlabel('False Positive Rate')\n",
    "plt.ylabel('True Positive Rate')\n",
    "plt.title('Receiver operating characteristic example')\n",
    "plt.legend(loc=\"lower right\")\n",
    "plt.show()\n",
    "display()"
   ]
  },
  {
   "cell_type": "code",
   "execution_count": null,
   "metadata": {},
   "outputs": [],
   "source": []
  }
 ],
 "metadata": {
  "kernelspec": {
   "display_name": "Python 3",
   "language": "python",
   "name": "python3"
  },
  "name": "Projeto_Grupo_2_L_Regression",
  "notebookId": 3542392003137557
 },
 "nbformat": 4,
 "nbformat_minor": 1
}
