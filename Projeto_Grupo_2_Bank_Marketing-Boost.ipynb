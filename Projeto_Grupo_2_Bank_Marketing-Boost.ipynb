{
 "cells": [
  {
   "cell_type": "markdown",
   "metadata": {},
   "source": [
    "## Importando os pacotes a serem utilizados"
   ]
  },
  {
   "cell_type": "code",
   "execution_count": 1,
   "metadata": {},
   "outputs": [],
   "source": [
    "from pyspark import SparkContext\n",
    "from pyspark.sql import SparkSession\n",
    "from pyspark import HiveContext\n",
    "from pyspark.sql.functions import monotonically_increasing_id\n",
    "from pyspark.ml.linalg import Vectors\n",
    "from pyspark.ml.feature import VectorAssembler\n",
    "from pyspark.ml.evaluation import RegressionEvaluator\n",
    "from pyspark.ml.classification import LogisticRegression, LogisticRegressionModel\n",
    "from pyspark.mllib.evaluation import BinaryClassificationMetrics as metric\n",
    "#from pyspark.ml.feature import OneHotEncoderEstimator, StringIndexer, VectorAssembler,OneHotEncoder\n",
    "from pyspark.ml.feature import OneHotEncoder, StringIndexer, VectorAssembler,OneHotEncoder\n",
    "from pyspark.ml import Pipeline\n"
   ]
  },
  {
   "cell_type": "markdown",
   "metadata": {},
   "source": [
    "### Inicio integração Hive"
   ]
  },
  {
   "cell_type": "code",
   "execution_count": 2,
   "metadata": {},
   "outputs": [
    {
     "data": {
      "text/plain": [
       "[('spark.driver.port', '41155'),\n",
       " ('spark.sql.catalogImplementation', 'hive'),\n",
       " ('spark.rdd.compress', 'True'),\n",
       " ('spark.driver.host', '10.30.30.21'),\n",
       " ('spark.serializer.objectStreamReset', '100'),\n",
       " ('spark.app.id', 'local-1559858245977'),\n",
       " ('spark.master', 'local[*]'),\n",
       " ('spark.executor.id', 'driver'),\n",
       " ('spark.submit.deployMode', 'client'),\n",
       " ('spark.app.name', 'PySparkShell')]"
      ]
     },
     "execution_count": 2,
     "metadata": {},
     "output_type": "execute_result"
    }
   ],
   "source": [
    "spark.sparkContext._conf.getAll()"
   ]
  },
  {
   "cell_type": "code",
   "execution_count": 3,
   "metadata": {},
   "outputs": [],
   "source": [
    "conf = spark.sparkContext._conf.setAll([\n",
    "    (\"hive.metastore.uris\", \"thrift://localhost:9083\")])"
   ]
  },
  {
   "cell_type": "code",
   "execution_count": 4,
   "metadata": {},
   "outputs": [],
   "source": [
    "spark.stop()"
   ]
  },
  {
   "cell_type": "code",
   "execution_count": 5,
   "metadata": {},
   "outputs": [],
   "source": [
    "sc = SparkContext()"
   ]
  },
  {
   "cell_type": "code",
   "execution_count": 6,
   "metadata": {},
   "outputs": [],
   "source": [
    "spark = SparkSession.builder.config(conf=conf).getOrCreate()"
   ]
  },
  {
   "cell_type": "code",
   "execution_count": 7,
   "metadata": {},
   "outputs": [
    {
     "data": {
      "text/plain": [
       "[('spark.driver.port', '41155'),\n",
       " ('spark.sql.catalogImplementation', 'hive'),\n",
       " ('spark.rdd.compress', 'True'),\n",
       " ('spark.driver.host', '10.30.30.21'),\n",
       " ('hive.metastore.uris', 'thrift://localhost:9083'),\n",
       " ('spark.serializer.objectStreamReset', '100'),\n",
       " ('spark.app.id', 'local-1559858245977'),\n",
       " ('spark.master', 'local[*]'),\n",
       " ('spark.executor.id', 'driver'),\n",
       " ('spark.submit.deployMode', 'client'),\n",
       " ('spark.app.name', 'PySparkShell')]"
      ]
     },
     "execution_count": 7,
     "metadata": {},
     "output_type": "execute_result"
    }
   ],
   "source": [
    "spark.sparkContext._conf.getAll()"
   ]
  },
  {
   "cell_type": "code",
   "execution_count": 8,
   "metadata": {},
   "outputs": [
    {
     "name": "stdout",
     "output_type": "stream",
     "text": [
      "+--------+--------------------+-----------+\n",
      "|database|           tableName|isTemporary|\n",
      "+--------+--------------------+-----------+\n",
      "| default|     boosting_output|      false|\n",
      "| default|        movieratings|      false|\n",
      "| default|random_forest_output|      false|\n",
      "+--------+--------------------+-----------+\n",
      "\n"
     ]
    }
   ],
   "source": [
    "df = spark.sql(\"SHOW TABLES\")\n",
    "df.show()"
   ]
  },
  {
   "cell_type": "markdown",
   "metadata": {},
   "source": [
    "### FIM integração Hive"
   ]
  },
  {
   "cell_type": "code",
   "execution_count": 12,
   "metadata": {},
   "outputs": [],
   "source": [
    "# Importando a base do HDFS\n",
    "#file_location = 'hdfs:///user/labdata/marketing/bank-additional-full.csv'\n",
    "file_location = 'hdfs:///user/labdata/marketing_data'\n",
    "file_type = \"csv\"\n",
    "\n",
    "# schema CSV \n",
    "infer_schema = \"true\"\n",
    "first_row_is_header = \"false\"\n",
    "delimiter = \",\"\n",
    "\n",
    "# As opções aplicadas são para arquivos CSV. Para outros tipos de arquivo, estes serão ignorados.\n",
    "df_marketing_data = spark.read.format(file_type) \\\n",
    "  .option(\"inferSchema\", infer_schema) \\\n",
    "  .option(\"header\", first_row_is_header) \\\n",
    "  .option(\"sep\", delimiter) \\\n",
    "  .load(file_location)\n",
    "\n"
   ]
  },
  {
   "cell_type": "code",
   "execution_count": 13,
   "metadata": {},
   "outputs": [],
   "source": [
    "# Inserindo cabeçalho (a tabela do Mysql está sem o cabeçalho)\n",
    "DefColumnNames=df_marketing_data.schema.names\n",
    "HeaderNames=['age','job','marital','education','default','housing','loan','contact','month','day_of_week','duration','campaign','pdays','previous','poutcome','emp_var_rate','cons_price_idx','cons_conf_idx','euribor3m','nr_employed','y']\n",
    "\n",
    "for Idx in range(0,21):\n",
    "    df_marketing_data=df_marketing_data.withColumnRenamed(DefColumnNames[Idx],HeaderNames[Idx])\n",
    "# Retirando a variável duration pois interfere na previsão do modelo\n",
    "df_marketing_data = df_marketing_data.drop ('duration')"
   ]
  },
  {
   "cell_type": "code",
   "execution_count": 11,
   "metadata": {},
   "outputs": [
    {
     "name": "stdout",
     "output_type": "stream",
     "text": [
      "root\n",
      " |-- age: integer (nullable = true)\n",
      " |-- job: string (nullable = true)\n",
      " |-- marital: string (nullable = true)\n",
      " |-- education: string (nullable = true)\n",
      " |-- default: string (nullable = true)\n",
      " |-- housing: string (nullable = true)\n",
      " |-- loan: string (nullable = true)\n",
      " |-- contact: string (nullable = true)\n",
      " |-- month: string (nullable = true)\n",
      " |-- day_of_week: string (nullable = true)\n",
      " |-- campaign: integer (nullable = true)\n",
      " |-- pdays: integer (nullable = true)\n",
      " |-- previous: integer (nullable = true)\n",
      " |-- poutcome: string (nullable = true)\n",
      " |-- emp_var_rate: double (nullable = true)\n",
      " |-- cons_price_idx: double (nullable = true)\n",
      " |-- cons_conf_idx: double (nullable = true)\n",
      " |-- euribor3m: double (nullable = true)\n",
      " |-- nr_employed: double (nullable = true)\n",
      " |-- y: string (nullable = true)\n",
      "\n"
     ]
    }
   ],
   "source": [
    "df_marketing_data.printSchema()"
   ]
  },
  {
   "cell_type": "code",
   "execution_count": 14,
   "metadata": {},
   "outputs": [
    {
     "name": "stdout",
     "output_type": "stream",
     "text": [
      "['job', 'marital', 'education', 'default', 'housing', 'loan', 'contact', 'month', 'day_of_week', 'poutcome', 'y']\n",
      "['age', 'campaign', 'pdays', 'previous', 'emp_var_rate', 'cons_price_idx', 'cons_conf_idx', 'euribor3m', 'nr_employed']\n"
     ]
    }
   ],
   "source": [
    "# Definindo variáveis categóricas\n",
    "categoricalColumns = []\n",
    "numericCols = []\n",
    "for i in df_marketing_data.dtypes:\n",
    "    if i[1]=='string':\n",
    "        categoricalColumns  += [i[0]]\n",
    "    elif i[1]=='int' or i[1]=='double':\n",
    "        numericCols  += [i[0]]\n",
    "\n",
    "print(categoricalColumns)\n",
    "print(numericCols)"
   ]
  },
  {
   "cell_type": "code",
   "execution_count": 15,
   "metadata": {},
   "outputs": [],
   "source": [
    "# Tratamento das colunas categóricas usando StringIndex / Encoder\n",
    "stages = [] \n",
    "for categoricalCol in categoricalColumns:\n",
    "  stringIndexer = StringIndexer(inputCol=categoricalCol, outputCol=categoricalCol+\"Index\")\n",
    "  encoder = OneHotEncoder(inputCol=categoricalCol+\"Index\", outputCol=categoricalCol+\"classVec\")\n",
    "  stages += [stringIndexer, encoder]\n",
    "  \n",
    "label_stringIdx = StringIndexer(inputCol = \"y\", outputCol = \"label\")\n",
    "stages += [label_stringIdx]\n",
    "\n"
   ]
  },
  {
   "cell_type": "code",
   "execution_count": 16,
   "metadata": {},
   "outputs": [],
   "source": [
    "## Assembler Inputs\n",
    "assemblerInputs = ['jobclassVec', 'maritalclassVec', 'educationclassVec', 'defaultclassVec', 'housingclassVec', 'loanclassVec', 'contactclassVec', 'monthclassVec','poutcomeclassVec'] + numericCols\n",
    "assembler = VectorAssembler(inputCols=assemblerInputs, outputCol=\"features\")\n",
    "stages += [assembler]"
   ]
  },
  {
   "cell_type": "code",
   "execution_count": 17,
   "metadata": {},
   "outputs": [
    {
     "name": "stdout",
     "output_type": "stream",
     "text": [
      "root\n",
      " |-- age: integer (nullable = true)\n",
      " |-- job: string (nullable = true)\n",
      " |-- marital: string (nullable = true)\n",
      " |-- education: string (nullable = true)\n",
      " |-- default: string (nullable = true)\n",
      " |-- housing: string (nullable = true)\n",
      " |-- loan: string (nullable = true)\n",
      " |-- contact: string (nullable = true)\n",
      " |-- month: string (nullable = true)\n",
      " |-- day_of_week: string (nullable = true)\n",
      " |-- campaign: integer (nullable = true)\n",
      " |-- pdays: integer (nullable = true)\n",
      " |-- previous: integer (nullable = true)\n",
      " |-- poutcome: string (nullable = true)\n",
      " |-- emp_var_rate: double (nullable = true)\n",
      " |-- cons_price_idx: double (nullable = true)\n",
      " |-- cons_conf_idx: double (nullable = true)\n",
      " |-- euribor3m: double (nullable = true)\n",
      " |-- nr_employed: double (nullable = true)\n",
      " |-- y: string (nullable = true)\n",
      " |-- jobIndex: double (nullable = true)\n",
      " |-- jobclassVec: vector (nullable = true)\n",
      " |-- maritalIndex: double (nullable = true)\n",
      " |-- maritalclassVec: vector (nullable = true)\n",
      " |-- educationIndex: double (nullable = true)\n",
      " |-- educationclassVec: vector (nullable = true)\n",
      " |-- defaultIndex: double (nullable = true)\n",
      " |-- defaultclassVec: vector (nullable = true)\n",
      " |-- housingIndex: double (nullable = true)\n",
      " |-- housingclassVec: vector (nullable = true)\n",
      " |-- loanIndex: double (nullable = true)\n",
      " |-- loanclassVec: vector (nullable = true)\n",
      " |-- contactIndex: double (nullable = true)\n",
      " |-- contactclassVec: vector (nullable = true)\n",
      " |-- monthIndex: double (nullable = true)\n",
      " |-- monthclassVec: vector (nullable = true)\n",
      " |-- day_of_weekIndex: double (nullable = true)\n",
      " |-- day_of_weekclassVec: vector (nullable = true)\n",
      " |-- poutcomeIndex: double (nullable = true)\n",
      " |-- poutcomeclassVec: vector (nullable = true)\n",
      " |-- yIndex: double (nullable = true)\n",
      " |-- yclassVec: vector (nullable = true)\n",
      " |-- label: double (nullable = true)\n",
      " |-- features: vector (nullable = true)\n",
      "\n"
     ]
    }
   ],
   "source": [
    "## PipeLine\n",
    "pipeline = Pipeline(stages=stages)\n",
    "pipelineModel = pipeline.fit(df_marketing_data)\n",
    "df_marketing_data_prep = pipelineModel.transform(df_marketing_data)\n",
    "df_marketing_data_prep.printSchema()"
   ]
  },
  {
   "cell_type": "code",
   "execution_count": 18,
   "metadata": {},
   "outputs": [
    {
     "data": {
      "text/plain": [
       "[Row(age=56, job='housemaid', marital='married', education='basic.4y', default='no', housing='no', loan='no', contact='telephone', month='may', day_of_week='mon', campaign=1, pdays=999, previous=0, poutcome='nonexistent', emp_var_rate=1.1, cons_price_idx=93.994, cons_conf_idx=-36.4, euribor3m=4.857, nr_employed=5191.0, y='no', jobIndex=8.0, jobclassVec=SparseVector(11, {8: 1.0}), maritalIndex=0.0, maritalclassVec=SparseVector(3, {0: 1.0}), educationIndex=4.0, educationclassVec=SparseVector(7, {4: 1.0}), defaultIndex=0.0, defaultclassVec=SparseVector(2, {0: 1.0}), housingIndex=1.0, housingclassVec=SparseVector(2, {1: 1.0}), loanIndex=0.0, loanclassVec=SparseVector(2, {0: 1.0}), contactIndex=1.0, contactclassVec=SparseVector(1, {}), monthIndex=0.0, monthclassVec=SparseVector(9, {0: 1.0}), day_of_weekIndex=1.0, day_of_weekclassVec=SparseVector(4, {1: 1.0}), poutcomeIndex=0.0, poutcomeclassVec=SparseVector(2, {0: 1.0}), yIndex=0.0, yclassVec=SparseVector(1, {0: 1.0}), label=0.0, features=SparseVector(48, {8: 1.0, 11: 1.0, 18: 1.0, 21: 1.0, 24: 1.0, 25: 1.0, 28: 1.0, 37: 1.0, 39: 56.0, 40: 1.0, 41: 999.0, 43: 1.1, 44: 93.994, 45: -36.4, 46: 4.857, 47: 5191.0})),\n",
       " Row(age=57, job='services', marital='married', education='high.school', default='unknown', housing='no', loan='no', contact='telephone', month='may', day_of_week='mon', campaign=1, pdays=999, previous=0, poutcome='nonexistent', emp_var_rate=1.1, cons_price_idx=93.994, cons_conf_idx=-36.4, euribor3m=4.857, nr_employed=5191.0, y='no', jobIndex=3.0, jobclassVec=SparseVector(11, {3: 1.0}), maritalIndex=0.0, maritalclassVec=SparseVector(3, {0: 1.0}), educationIndex=1.0, educationclassVec=SparseVector(7, {1: 1.0}), defaultIndex=1.0, defaultclassVec=SparseVector(2, {1: 1.0}), housingIndex=1.0, housingclassVec=SparseVector(2, {1: 1.0}), loanIndex=0.0, loanclassVec=SparseVector(2, {0: 1.0}), contactIndex=1.0, contactclassVec=SparseVector(1, {}), monthIndex=0.0, monthclassVec=SparseVector(9, {0: 1.0}), day_of_weekIndex=1.0, day_of_weekclassVec=SparseVector(4, {1: 1.0}), poutcomeIndex=0.0, poutcomeclassVec=SparseVector(2, {0: 1.0}), yIndex=0.0, yclassVec=SparseVector(1, {0: 1.0}), label=0.0, features=SparseVector(48, {3: 1.0, 11: 1.0, 15: 1.0, 22: 1.0, 24: 1.0, 25: 1.0, 28: 1.0, 37: 1.0, 39: 57.0, 40: 1.0, 41: 999.0, 43: 1.1, 44: 93.994, 45: -36.4, 46: 4.857, 47: 5191.0})),\n",
       " Row(age=37, job='services', marital='married', education='high.school', default='no', housing='yes', loan='no', contact='telephone', month='may', day_of_week='mon', campaign=1, pdays=999, previous=0, poutcome='nonexistent', emp_var_rate=1.1, cons_price_idx=93.994, cons_conf_idx=-36.4, euribor3m=4.857, nr_employed=5191.0, y='no', jobIndex=3.0, jobclassVec=SparseVector(11, {3: 1.0}), maritalIndex=0.0, maritalclassVec=SparseVector(3, {0: 1.0}), educationIndex=1.0, educationclassVec=SparseVector(7, {1: 1.0}), defaultIndex=0.0, defaultclassVec=SparseVector(2, {0: 1.0}), housingIndex=0.0, housingclassVec=SparseVector(2, {0: 1.0}), loanIndex=0.0, loanclassVec=SparseVector(2, {0: 1.0}), contactIndex=1.0, contactclassVec=SparseVector(1, {}), monthIndex=0.0, monthclassVec=SparseVector(9, {0: 1.0}), day_of_weekIndex=1.0, day_of_weekclassVec=SparseVector(4, {1: 1.0}), poutcomeIndex=0.0, poutcomeclassVec=SparseVector(2, {0: 1.0}), yIndex=0.0, yclassVec=SparseVector(1, {0: 1.0}), label=0.0, features=SparseVector(48, {3: 1.0, 11: 1.0, 15: 1.0, 21: 1.0, 23: 1.0, 25: 1.0, 28: 1.0, 37: 1.0, 39: 37.0, 40: 1.0, 41: 999.0, 43: 1.1, 44: 93.994, 45: -36.4, 46: 4.857, 47: 5191.0})),\n",
       " Row(age=40, job='admin.', marital='married', education='basic.6y', default='no', housing='no', loan='no', contact='telephone', month='may', day_of_week='mon', campaign=1, pdays=999, previous=0, poutcome='nonexistent', emp_var_rate=1.1, cons_price_idx=93.994, cons_conf_idx=-36.4, euribor3m=4.857, nr_employed=5191.0, y='no', jobIndex=0.0, jobclassVec=SparseVector(11, {0: 1.0}), maritalIndex=0.0, maritalclassVec=SparseVector(3, {0: 1.0}), educationIndex=5.0, educationclassVec=SparseVector(7, {5: 1.0}), defaultIndex=0.0, defaultclassVec=SparseVector(2, {0: 1.0}), housingIndex=1.0, housingclassVec=SparseVector(2, {1: 1.0}), loanIndex=0.0, loanclassVec=SparseVector(2, {0: 1.0}), contactIndex=1.0, contactclassVec=SparseVector(1, {}), monthIndex=0.0, monthclassVec=SparseVector(9, {0: 1.0}), day_of_weekIndex=1.0, day_of_weekclassVec=SparseVector(4, {1: 1.0}), poutcomeIndex=0.0, poutcomeclassVec=SparseVector(2, {0: 1.0}), yIndex=0.0, yclassVec=SparseVector(1, {0: 1.0}), label=0.0, features=SparseVector(48, {0: 1.0, 11: 1.0, 19: 1.0, 21: 1.0, 24: 1.0, 25: 1.0, 28: 1.0, 37: 1.0, 39: 40.0, 40: 1.0, 41: 999.0, 43: 1.1, 44: 93.994, 45: -36.4, 46: 4.857, 47: 5191.0})),\n",
       " Row(age=56, job='services', marital='married', education='high.school', default='no', housing='no', loan='yes', contact='telephone', month='may', day_of_week='mon', campaign=1, pdays=999, previous=0, poutcome='nonexistent', emp_var_rate=1.1, cons_price_idx=93.994, cons_conf_idx=-36.4, euribor3m=4.857, nr_employed=5191.0, y='no', jobIndex=3.0, jobclassVec=SparseVector(11, {3: 1.0}), maritalIndex=0.0, maritalclassVec=SparseVector(3, {0: 1.0}), educationIndex=1.0, educationclassVec=SparseVector(7, {1: 1.0}), defaultIndex=0.0, defaultclassVec=SparseVector(2, {0: 1.0}), housingIndex=1.0, housingclassVec=SparseVector(2, {1: 1.0}), loanIndex=1.0, loanclassVec=SparseVector(2, {1: 1.0}), contactIndex=1.0, contactclassVec=SparseVector(1, {}), monthIndex=0.0, monthclassVec=SparseVector(9, {0: 1.0}), day_of_weekIndex=1.0, day_of_weekclassVec=SparseVector(4, {1: 1.0}), poutcomeIndex=0.0, poutcomeclassVec=SparseVector(2, {0: 1.0}), yIndex=0.0, yclassVec=SparseVector(1, {0: 1.0}), label=0.0, features=SparseVector(48, {3: 1.0, 11: 1.0, 15: 1.0, 21: 1.0, 24: 1.0, 26: 1.0, 28: 1.0, 37: 1.0, 39: 56.0, 40: 1.0, 41: 999.0, 43: 1.1, 44: 93.994, 45: -36.4, 46: 4.857, 47: 5191.0}))]"
      ]
     },
     "execution_count": 18,
     "metadata": {},
     "output_type": "execute_result"
    }
   ],
   "source": [
    "df_marketing_data_prep.take(5)"
   ]
  },
  {
   "cell_type": "code",
   "execution_count": 19,
   "metadata": {},
   "outputs": [],
   "source": [
    "#Configurando o modelo para 100 iteracoes\n",
    "from pyspark.ml.classification import GBTClassifier, GBTClassificationModel\n",
    "modelo = GBTClassifier(labelCol=\"label\", featuresCol=\"features\", maxIter=100)\n"
   ]
  },
  {
   "cell_type": "code",
   "execution_count": 20,
   "metadata": {},
   "outputs": [],
   "source": [
    "# Divisão dos Dados de Teste e Treino\n",
    "(marketing_model_treino, marketing_model_teste) = df_marketing_data_prep.randomSplit([0.7, 0.3])"
   ]
  },
  {
   "cell_type": "code",
   "execution_count": 21,
   "metadata": {},
   "outputs": [
    {
     "data": {
      "text/plain": [
       "SparseVector(48, {0: 0.0168, 1: 0.0235, 2: 0.0173, 3: 0.0084, 4: 0.0104, 5: 0.0093, 6: 0.004, 7: 0.0094, 8: 0.0077, 9: 0.006, 10: 0.0124, 11: 0.0078, 12: 0.0119, 13: 0.0147, 14: 0.0122, 15: 0.016, 16: 0.0132, 17: 0.0177, 18: 0.0076, 19: 0.011, 20: 0.0116, 21: 0.0141, 23: 0.0055, 24: 0.0075, 25: 0.011, 26: 0.0116, 27: 0.0253, 28: 0.0101, 29: 0.0064, 30: 0.004, 31: 0.0047, 32: 0.0126, 33: 0.0083, 34: 0.0061, 35: 0.0024, 36: 0.0064, 37: 0.0026, 38: 0.0147, 39: 0.1523, 40: 0.0881, 41: 0.0489, 42: 0.0314, 43: 0.0527, 44: 0.0324, 45: 0.0531, 46: 0.1129, 47: 0.0261})"
      ]
     },
     "execution_count": 21,
     "metadata": {},
     "output_type": "execute_result"
    }
   ],
   "source": [
    "# Preparando o Treino\n",
    "modelo_treino = modelo.fit(marketing_model_treino)\n",
    "modelo_treino.featureImportances"
   ]
  },
  {
   "cell_type": "code",
   "execution_count": 22,
   "metadata": {},
   "outputs": [],
   "source": [
    "# Salvando o modelo no HDFS\n",
    "hdfs_path = \"/user/labdata/modelo_BST2\"\n",
    "modelo_treino.write().overwrite().save(hdfs_path)"
   ]
  },
  {
   "cell_type": "code",
   "execution_count": 23,
   "metadata": {},
   "outputs": [],
   "source": [
    "modelo_treino2 =GBTClassificationModel.load(hdfs_path)"
   ]
  },
  {
   "cell_type": "code",
   "execution_count": 24,
   "metadata": {},
   "outputs": [],
   "source": [
    "# Predição do modelo\n",
    "predict = modelo_treino2.transform(marketing_model_treino)"
   ]
  },
  {
   "cell_type": "code",
   "execution_count": 25,
   "metadata": {},
   "outputs": [
    {
     "data": {
      "text/plain": [
       "[Row(features=SparseVector(48, {10: 1.0, 12: 1.0, 16: 1.0, 21: 1.0, 27: 1.0, 30: 1.0, 38: 1.0, 39: 17.0, 40: 2.0, 41: 999.0, 42: 1.0, 43: -2.9, 44: 92.201, 45: -31.4, 46: 0.869, 47: 5076.2})),\n",
       " Row(features=SparseVector(48, {10: 1.0, 12: 1.0, 16: 1.0, 21: 1.0, 23: 1.0, 25: 1.0, 27: 1.0, 30: 1.0, 38: 1.0, 39: 17.0, 40: 2.0, 41: 999.0, 42: 2.0, 43: -2.9, 44: 92.201, 45: -31.4, 46: 0.869, 47: 5076.2})),\n",
       " Row(features=SparseVector(48, {10: 1.0, 12: 1.0, 18: 1.0, 21: 1.0, 23: 1.0, 26: 1.0, 27: 1.0, 33: 1.0, 37: 1.0, 39: 18.0, 40: 2.0, 41: 999.0, 43: -1.8, 44: 93.075, 45: -47.1, 46: 1.365, 47: 5099.1})),\n",
       " Row(features=SparseVector(48, {10: 1.0, 12: 1.0, 19: 1.0, 21: 1.0, 23: 1.0, 25: 1.0, 27: 1.0, 30: 1.0, 37: 1.0, 39: 18.0, 40: 1.0, 41: 999.0, 43: -2.9, 44: 92.201, 45: -31.4, 46: 0.861, 47: 5076.2})),\n",
       " Row(features=SparseVector(48, {10: 1.0, 12: 1.0, 15: 1.0, 21: 1.0, 24: 1.0, 25: 1.0, 27: 1.0, 28: 1.0, 38: 1.0, 39: 18.0, 40: 1.0, 41: 999.0, 42: 1.0, 43: -1.8, 44: 92.893, 45: -46.2, 46: 1.259, 47: 5099.1}))]"
      ]
     },
     "execution_count": 25,
     "metadata": {},
     "output_type": "execute_result"
    }
   ],
   "source": [
    "predict.select(\"features\").take(5)"
   ]
  },
  {
   "cell_type": "code",
   "execution_count": 26,
   "metadata": {},
   "outputs": [
    {
     "name": "stdout",
     "output_type": "stream",
     "text": [
      "+---+-------+-------+-----------+-------+-------+-------+---------+-----+-----------+--------+-----+--------+-----------+------------+--------------+-------------+---------+-----------+---+--------+---------------+------------+---------------+--------------+-----------------+------------+---------------+------------+---------------+---------+-------------+------------+---------------+----------+-------------+----------------+-------------------+-------------+----------------+------+-------------+-----+--------------------+--------------------+--------------------+----------+\n",
      "|age|    job|marital|  education|default|housing|   loan|  contact|month|day_of_week|campaign|pdays|previous|   poutcome|emp_var_rate|cons_price_idx|cons_conf_idx|euribor3m|nr_employed|  y|jobIndex|    jobclassVec|maritalIndex|maritalclassVec|educationIndex|educationclassVec|defaultIndex|defaultclassVec|housingIndex|housingclassVec|loanIndex| loanclassVec|contactIndex|contactclassVec|monthIndex|monthclassVec|day_of_weekIndex|day_of_weekclassVec|poutcomeIndex|poutcomeclassVec|yIndex|    yclassVec|label|            features|       rawPrediction|         probability|prediction|\n",
      "+---+-------+-------+-----------+-------+-------+-------+---------+-----+-----------+--------+-----+--------+-----------+------------+--------------+-------------+---------+-----------+---+--------+---------------+------------+---------------+--------------+-----------------+------------+---------------+------------+---------------+---------+-------------+------------+---------------+----------+-------------+----------------+-------------------+-------------+----------------+------+-------------+-----+--------------------+--------------------+--------------------+----------+\n",
      "| 17|student| single|   basic.9y|     no|unknown|unknown| cellular|  aug|        fri|       2|  999|       1|    failure|        -2.9|        92.201|        -31.4|    0.869|     5076.2|yes|    10.0|(11,[10],[1.0])|         1.0|  (3,[1],[1.0])|           2.0|    (7,[2],[1.0])|         0.0|  (2,[0],[1.0])|         2.0|      (2,[],[])|      2.0|    (2,[],[])|         0.0|  (1,[0],[1.0])|       2.0|(9,[2],[1.0])|             4.0|          (4,[],[])|          1.0|   (2,[1],[1.0])|   1.0|    (1,[],[])|  1.0|(48,[10,12,16,21,...|[0.40360392581835...|[0.69151419547472...|       0.0|\n",
      "| 17|student| single|   basic.9y|     no|    yes|     no| cellular|  aug|        fri|       2|  999|       2|    failure|        -2.9|        92.201|        -31.4|    0.869|     5076.2| no|    10.0|(11,[10],[1.0])|         1.0|  (3,[1],[1.0])|           2.0|    (7,[2],[1.0])|         0.0|  (2,[0],[1.0])|         0.0|  (2,[0],[1.0])|      0.0|(2,[0],[1.0])|         0.0|  (1,[0],[1.0])|       2.0|(9,[2],[1.0])|             4.0|          (4,[],[])|          1.0|   (2,[1],[1.0])|   0.0|(1,[0],[1.0])|  0.0|(48,[10,12,16,21,...|[0.54613655376902...|[0.74880952085902...|       0.0|\n",
      "| 18|student| single|   basic.4y|     no|    yes|    yes| cellular|  apr|        thu|       2|  999|       0|nonexistent|        -1.8|        93.075|        -47.1|    1.365|     5099.1| no|    10.0|(11,[10],[1.0])|         1.0|  (3,[1],[1.0])|           4.0|    (7,[4],[1.0])|         0.0|  (2,[0],[1.0])|         0.0|  (2,[0],[1.0])|      1.0|(2,[1],[1.0])|         0.0|  (1,[0],[1.0])|       5.0|(9,[5],[1.0])|             0.0|      (4,[0],[1.0])|          0.0|   (2,[0],[1.0])|   0.0|(1,[0],[1.0])|  0.0|(48,[10,12,18,21,...|[0.39711059457720...|[0.68873698233812...|       0.0|\n",
      "| 18|student| single|   basic.6y|     no|    yes|     no| cellular|  aug|        mon|       1|  999|       0|nonexistent|        -2.9|        92.201|        -31.4|    0.861|     5076.2| no|    10.0|(11,[10],[1.0])|         1.0|  (3,[1],[1.0])|           5.0|    (7,[5],[1.0])|         0.0|  (2,[0],[1.0])|         0.0|  (2,[0],[1.0])|      0.0|(2,[0],[1.0])|         0.0|  (1,[0],[1.0])|       2.0|(9,[2],[1.0])|             1.0|      (4,[1],[1.0])|          0.0|   (2,[0],[1.0])|   0.0|(1,[0],[1.0])|  0.0|(48,[10,12,19,21,...|[0.42169974996327...|[0.69918070656061...|       0.0|\n",
      "| 18|student| single|high.school|     no|     no|     no| cellular|  may|        fri|       1|  999|       1|    failure|        -1.8|        92.893|        -46.2|    1.259|     5099.1|yes|    10.0|(11,[10],[1.0])|         1.0|  (3,[1],[1.0])|           1.0|    (7,[1],[1.0])|         0.0|  (2,[0],[1.0])|         1.0|  (2,[1],[1.0])|      0.0|(2,[0],[1.0])|         0.0|  (1,[0],[1.0])|       0.0|(9,[0],[1.0])|             4.0|          (4,[],[])|          1.0|   (2,[1],[1.0])|   1.0|    (1,[],[])|  1.0|(48,[10,12,15,21,...|[0.99175578258666...|[0.87905499948406...|       0.0|\n",
      "| 18|student| single|high.school|     no|     no|     no|telephone|  nov|        thu|       1|  999|       0|nonexistent|        -0.1|          93.2|        -42.0|    4.245|     5195.8| no|    10.0|(11,[10],[1.0])|         1.0|  (3,[1],[1.0])|           1.0|    (7,[1],[1.0])|         0.0|  (2,[0],[1.0])|         1.0|  (2,[1],[1.0])|      0.0|(2,[0],[1.0])|         1.0|      (1,[],[])|       4.0|(9,[4],[1.0])|             0.0|      (4,[0],[1.0])|          0.0|   (2,[0],[1.0])|   0.0|(1,[0],[1.0])|  0.0|(48,[10,12,15,21,...|[0.56548591300526...|[0.75601820154831...|       0.0|\n",
      "| 18|student| single|high.school|     no|    yes|     no| cellular|  may|        fri|       1|    1|       2|    success|        -1.8|        92.893|        -46.2|    1.259|     5099.1| no|    10.0|(11,[10],[1.0])|         1.0|  (3,[1],[1.0])|           1.0|    (7,[1],[1.0])|         0.0|  (2,[0],[1.0])|         0.0|  (2,[0],[1.0])|      0.0|(2,[0],[1.0])|         0.0|  (1,[0],[1.0])|       0.0|(9,[0],[1.0])|             4.0|          (4,[],[])|          2.0|       (2,[],[])|   0.0|(1,[0],[1.0])|  0.0|(48,[10,12,15,21,...|[0.79787360805712...|[0.83142316037007...|       0.0|\n",
      "| 18|student| single|high.school|     no|    yes|    yes| cellular|  mar|        tue|       1|  999|       0|nonexistent|        -1.8|        92.843|        -50.0|    1.687|     5099.1| no|    10.0|(11,[10],[1.0])|         1.0|  (3,[1],[1.0])|           1.0|    (7,[1],[1.0])|         0.0|  (2,[0],[1.0])|         0.0|  (2,[0],[1.0])|      1.0|(2,[1],[1.0])|         0.0|  (1,[0],[1.0])|       8.0|(9,[8],[1.0])|             3.0|      (4,[3],[1.0])|          0.0|   (2,[0],[1.0])|   0.0|(1,[0],[1.0])|  0.0|(48,[10,12,15,21,...|[0.05172896809608...|[0.52584143857642...|       0.0|\n",
      "| 18|student| single|    unknown|     no|     no|     no| cellular|  sep|        thu|       1|    3|       1|    success|        -3.4|        92.379|        -29.8|    0.809|     5017.5|yes|    10.0|(11,[10],[1.0])|         1.0|  (3,[1],[1.0])|           6.0|    (7,[6],[1.0])|         0.0|  (2,[0],[1.0])|         1.0|  (2,[1],[1.0])|      0.0|(2,[0],[1.0])|         0.0|  (1,[0],[1.0])|       7.0|(9,[7],[1.0])|             0.0|      (4,[0],[1.0])|          2.0|       (2,[],[])|   1.0|    (1,[],[])|  1.0|(48,[10,12,20,21,...|[-0.8191954126507...|[0.16268414219549...|       1.0|\n",
      "| 18|student| single|    unknown|     no|     no|     no|telephone|  sep|        tue|       2|  999|       0|nonexistent|        -3.4|        92.379|        -29.8|    0.788|     5017.5| no|    10.0|(11,[10],[1.0])|         1.0|  (3,[1],[1.0])|           6.0|    (7,[6],[1.0])|         0.0|  (2,[0],[1.0])|         1.0|  (2,[1],[1.0])|      0.0|(2,[0],[1.0])|         1.0|      (1,[],[])|       7.0|(9,[7],[1.0])|             3.0|      (4,[3],[1.0])|          0.0|   (2,[0],[1.0])|   0.0|(1,[0],[1.0])|  0.0|(48,[10,12,20,21,...|[0.99902320055136...|[0.88059180998656...|       0.0|\n",
      "| 18|student| single|    unknown|     no|unknown|unknown| cellular|  sep|        thu|       2|  999|       0|nonexistent|        -3.4|        92.379|        -29.8|    0.809|     5017.5| no|    10.0|(11,[10],[1.0])|         1.0|  (3,[1],[1.0])|           6.0|    (7,[6],[1.0])|         0.0|  (2,[0],[1.0])|         2.0|      (2,[],[])|      2.0|    (2,[],[])|         0.0|  (1,[0],[1.0])|       7.0|(9,[7],[1.0])|             0.0|      (4,[0],[1.0])|          0.0|   (2,[0],[1.0])|   0.0|(1,[0],[1.0])|  0.0|(48,[10,12,20,21,...|[0.04993865214314...|[0.52494859001396...|       0.0|\n",
      "| 18|student| single|    unknown|     no|    yes|     no| cellular|  sep|        fri|       1|  999|       0|nonexistent|        -3.4|        92.379|        -29.8|    0.803|     5017.5|yes|    10.0|(11,[10],[1.0])|         1.0|  (3,[1],[1.0])|           6.0|    (7,[6],[1.0])|         0.0|  (2,[0],[1.0])|         0.0|  (2,[0],[1.0])|      0.0|(2,[0],[1.0])|         0.0|  (1,[0],[1.0])|       7.0|(9,[7],[1.0])|             4.0|          (4,[],[])|          0.0|   (2,[0],[1.0])|   1.0|    (1,[],[])|  1.0|(48,[10,12,20,21,...|[0.10884683580444...|[0.55420950203111...|       0.0|\n",
      "| 18|student| single|    unknown|     no|    yes|     no| cellular|  sep|        thu|       1|  999|       0|nonexistent|        -3.4|        92.379|        -29.8|    0.809|     5017.5| no|    10.0|(11,[10],[1.0])|         1.0|  (3,[1],[1.0])|           6.0|    (7,[6],[1.0])|         0.0|  (2,[0],[1.0])|         0.0|  (2,[0],[1.0])|      0.0|(2,[0],[1.0])|         0.0|  (1,[0],[1.0])|       7.0|(9,[7],[1.0])|             0.0|      (4,[0],[1.0])|          0.0|   (2,[0],[1.0])|   0.0|(1,[0],[1.0])|  0.0|(48,[10,12,20,21,...|[0.10884683580444...|[0.55420950203111...|       0.0|\n",
      "| 19|student| single|   basic.6y|     no|     no|     no| cellular|  mar|        tue|       1|  999|       0|nonexistent|        -1.8|        92.843|        -50.0|    1.556|     5099.1|yes|    10.0|(11,[10],[1.0])|         1.0|  (3,[1],[1.0])|           5.0|    (7,[5],[1.0])|         0.0|  (2,[0],[1.0])|         1.0|  (2,[1],[1.0])|      0.0|(2,[0],[1.0])|         0.0|  (1,[0],[1.0])|       8.0|(9,[8],[1.0])|             3.0|      (4,[3],[1.0])|          0.0|   (2,[0],[1.0])|   1.0|    (1,[],[])|  1.0|(48,[10,12,19,21,...|[-0.1036973926088...|[0.44833635337921...|       1.0|\n",
      "| 19|student| single|   basic.9y|     no|     no|     no| cellular|  apr|        thu|       3|  999|       0|nonexistent|        -1.8|        93.075|        -47.1|     1.41|     5099.1| no|    10.0|(11,[10],[1.0])|         1.0|  (3,[1],[1.0])|           2.0|    (7,[2],[1.0])|         0.0|  (2,[0],[1.0])|         1.0|  (2,[1],[1.0])|      0.0|(2,[0],[1.0])|         0.0|  (1,[0],[1.0])|       5.0|(9,[5],[1.0])|             0.0|      (4,[0],[1.0])|          0.0|   (2,[0],[1.0])|   0.0|(1,[0],[1.0])|  0.0|(48,[10,12,16,21,...|[0.34627268490254...|[0.66653291753212...|       0.0|\n",
      "| 19|student| single|   basic.9y|     no|     no|     no| cellular|  apr|        tue|       3|  999|       0|nonexistent|        -1.8|        93.075|        -47.1|    1.453|     5099.1| no|    10.0|(11,[10],[1.0])|         1.0|  (3,[1],[1.0])|           2.0|    (7,[2],[1.0])|         0.0|  (2,[0],[1.0])|         1.0|  (2,[1],[1.0])|      0.0|(2,[0],[1.0])|         0.0|  (1,[0],[1.0])|       5.0|(9,[5],[1.0])|             3.0|      (4,[3],[1.0])|          0.0|   (2,[0],[1.0])|   0.0|(1,[0],[1.0])|  0.0|(48,[10,12,16,21,...|[0.37973787842468...|[0.68123990410744...|       0.0|\n",
      "| 19|student| single|   basic.9y|     no|     no|     no| cellular|  aug|        mon|       1|    3|       1|    success|        -2.9|        92.201|        -31.4|    0.884|     5076.2| no|    10.0|(11,[10],[1.0])|         1.0|  (3,[1],[1.0])|           2.0|    (7,[2],[1.0])|         0.0|  (2,[0],[1.0])|         1.0|  (2,[1],[1.0])|      0.0|(2,[0],[1.0])|         0.0|  (1,[0],[1.0])|       2.0|(9,[2],[1.0])|             1.0|      (4,[1],[1.0])|          2.0|       (2,[],[])|   0.0|(1,[0],[1.0])|  0.0|(48,[10,12,16,21,...|[0.49822405056753...|[0.73035966006212...|       0.0|\n",
      "| 19|student| single|   basic.9y|     no|    yes|     no| cellular|  apr|        tue|       1|  999|       0|nonexistent|        -1.8|        93.075|        -47.1|    1.453|     5099.1|yes|    10.0|(11,[10],[1.0])|         1.0|  (3,[1],[1.0])|           2.0|    (7,[2],[1.0])|         0.0|  (2,[0],[1.0])|         0.0|  (2,[0],[1.0])|      0.0|(2,[0],[1.0])|         0.0|  (1,[0],[1.0])|       5.0|(9,[5],[1.0])|             3.0|      (4,[3],[1.0])|          0.0|   (2,[0],[1.0])|   1.0|    (1,[],[])|  1.0|(48,[10,12,16,21,...|[0.35755877702669...|[0.67153096448374...|       0.0|\n",
      "| 19|student| single|   basic.9y|     no|    yes|     no| cellular|  mar|        fri|       4|  999|       0|nonexistent|        -1.8|        92.843|        -50.0|     1.64|     5099.1|yes|    10.0|(11,[10],[1.0])|         1.0|  (3,[1],[1.0])|           2.0|    (7,[2],[1.0])|         0.0|  (2,[0],[1.0])|         0.0|  (2,[0],[1.0])|      0.0|(2,[0],[1.0])|         0.0|  (1,[0],[1.0])|       8.0|(9,[8],[1.0])|             4.0|          (4,[],[])|          0.0|   (2,[0],[1.0])|   1.0|    (1,[],[])|  1.0|(48,[10,12,16,21,...|[-0.2151544611072...|[0.39405256620913...|       1.0|\n",
      "| 19|student| single|high.school|unknown|     no|    yes| cellular|  may|        tue|       4|  999|       0|nonexistent|        -1.8|        92.893|        -46.2|    1.344|     5099.1| no|    10.0|(11,[10],[1.0])|         1.0|  (3,[1],[1.0])|           1.0|    (7,[1],[1.0])|         1.0|  (2,[1],[1.0])|         1.0|  (2,[1],[1.0])|      1.0|(2,[1],[1.0])|         0.0|  (1,[0],[1.0])|       0.0|(9,[0],[1.0])|             3.0|      (4,[3],[1.0])|          0.0|   (2,[0],[1.0])|   0.0|(1,[0],[1.0])|  0.0|(48,[10,12,15,22,...|[1.25911016952084...|[0.92540930327671...|       0.0|\n",
      "+---+-------+-------+-----------+-------+-------+-------+---------+-----+-----------+--------+-----+--------+-----------+------------+--------------+-------------+---------+-----------+---+--------+---------------+------------+---------------+--------------+-----------------+------------+---------------+------------+---------------+---------+-------------+------------+---------------+----------+-------------+----------------+-------------------+-------------+----------------+------+-------------+-----+--------------------+--------------------+--------------------+----------+\n",
      "only showing top 20 rows\n",
      "\n"
     ]
    }
   ],
   "source": [
    "predict.show()"
   ]
  },
  {
   "cell_type": "code",
   "execution_count": 27,
   "metadata": {},
   "outputs": [],
   "source": [
    "results = predict.select(['probability', 'label'])"
   ]
  },
  {
   "cell_type": "code",
   "execution_count": 28,
   "metadata": {},
   "outputs": [],
   "source": [
    "# Salvando modelo no Hive\n",
    "import pyspark\n",
    "df_writer = pyspark.sql.DataFrameWriter(predict)\n",
    "df_writer.saveAsTable('default.boosting_output', format='parquet', mode='overwrite')"
   ]
  },
  {
   "cell_type": "code",
   "execution_count": 29,
   "metadata": {},
   "outputs": [
    {
     "name": "stdout",
     "output_type": "stream",
     "text": [
      "+---+-------+-------+-----------+-------+-------+-------+---------+-----+-----------+--------+-----+--------+-----------+------------+--------------+-------------+---------+-----------+---+--------+---------------+------------+---------------+--------------+-----------------+------------+---------------+------------+---------------+---------+-------------+------------+---------------+----------+-------------+----------------+-------------------+-------------+----------------+------+-------------+-----+--------------------+--------------------+--------------------+----------+\n",
      "|age|    job|marital|  education|default|housing|   loan|  contact|month|day_of_week|campaign|pdays|previous|   poutcome|emp_var_rate|cons_price_idx|cons_conf_idx|euribor3m|nr_employed|  y|jobIndex|    jobclassVec|maritalIndex|maritalclassVec|educationIndex|educationclassVec|defaultIndex|defaultclassVec|housingIndex|housingclassVec|loanIndex| loanclassVec|contactIndex|contactclassVec|monthIndex|monthclassVec|day_of_weekIndex|day_of_weekclassVec|poutcomeIndex|poutcomeclassVec|yIndex|    yclassVec|label|            features|       rawPrediction|         probability|prediction|\n",
      "+---+-------+-------+-----------+-------+-------+-------+---------+-----+-----------+--------+-----+--------+-----------+------------+--------------+-------------+---------+-----------+---+--------+---------------+------------+---------------+--------------+-----------------+------------+---------------+------------+---------------+---------+-------------+------------+---------------+----------+-------------+----------------+-------------------+-------------+----------------+------+-------------+-----+--------------------+--------------------+--------------------+----------+\n",
      "| 17|student| single|   basic.9y|     no|unknown|unknown| cellular|  aug|        fri|       2|  999|       1|    failure|        -2.9|        92.201|        -31.4|    0.869|     5076.2|yes|    10.0|(11,[10],[1.0])|         1.0|  (3,[1],[1.0])|           2.0|    (7,[2],[1.0])|         0.0|  (2,[0],[1.0])|         2.0|      (2,[],[])|      2.0|    (2,[],[])|         0.0|  (1,[0],[1.0])|       2.0|(9,[2],[1.0])|             4.0|          (4,[],[])|          1.0|   (2,[1],[1.0])|   1.0|    (1,[],[])|  1.0|(48,[10,12,16,21,...|[0.40360392581835...|[0.69151419547472...|       0.0|\n",
      "| 17|student| single|   basic.9y|     no|    yes|     no| cellular|  aug|        fri|       2|  999|       2|    failure|        -2.9|        92.201|        -31.4|    0.869|     5076.2| no|    10.0|(11,[10],[1.0])|         1.0|  (3,[1],[1.0])|           2.0|    (7,[2],[1.0])|         0.0|  (2,[0],[1.0])|         0.0|  (2,[0],[1.0])|      0.0|(2,[0],[1.0])|         0.0|  (1,[0],[1.0])|       2.0|(9,[2],[1.0])|             4.0|          (4,[],[])|          1.0|   (2,[1],[1.0])|   0.0|(1,[0],[1.0])|  0.0|(48,[10,12,16,21,...|[0.54613655376902...|[0.74880952085902...|       0.0|\n",
      "| 18|student| single|   basic.4y|     no|    yes|    yes| cellular|  apr|        thu|       2|  999|       0|nonexistent|        -1.8|        93.075|        -47.1|    1.365|     5099.1| no|    10.0|(11,[10],[1.0])|         1.0|  (3,[1],[1.0])|           4.0|    (7,[4],[1.0])|         0.0|  (2,[0],[1.0])|         0.0|  (2,[0],[1.0])|      1.0|(2,[1],[1.0])|         0.0|  (1,[0],[1.0])|       5.0|(9,[5],[1.0])|             0.0|      (4,[0],[1.0])|          0.0|   (2,[0],[1.0])|   0.0|(1,[0],[1.0])|  0.0|(48,[10,12,18,21,...|[0.39711059457720...|[0.68873698233812...|       0.0|\n",
      "| 18|student| single|   basic.6y|     no|    yes|     no| cellular|  aug|        mon|       1|  999|       0|nonexistent|        -2.9|        92.201|        -31.4|    0.861|     5076.2| no|    10.0|(11,[10],[1.0])|         1.0|  (3,[1],[1.0])|           5.0|    (7,[5],[1.0])|         0.0|  (2,[0],[1.0])|         0.0|  (2,[0],[1.0])|      0.0|(2,[0],[1.0])|         0.0|  (1,[0],[1.0])|       2.0|(9,[2],[1.0])|             1.0|      (4,[1],[1.0])|          0.0|   (2,[0],[1.0])|   0.0|(1,[0],[1.0])|  0.0|(48,[10,12,19,21,...|[0.42169974996327...|[0.69918070656061...|       0.0|\n",
      "| 18|student| single|high.school|     no|     no|     no| cellular|  may|        fri|       1|  999|       1|    failure|        -1.8|        92.893|        -46.2|    1.259|     5099.1|yes|    10.0|(11,[10],[1.0])|         1.0|  (3,[1],[1.0])|           1.0|    (7,[1],[1.0])|         0.0|  (2,[0],[1.0])|         1.0|  (2,[1],[1.0])|      0.0|(2,[0],[1.0])|         0.0|  (1,[0],[1.0])|       0.0|(9,[0],[1.0])|             4.0|          (4,[],[])|          1.0|   (2,[1],[1.0])|   1.0|    (1,[],[])|  1.0|(48,[10,12,15,21,...|[0.99175578258666...|[0.87905499948406...|       0.0|\n",
      "| 18|student| single|high.school|     no|     no|     no|telephone|  nov|        thu|       1|  999|       0|nonexistent|        -0.1|          93.2|        -42.0|    4.245|     5195.8| no|    10.0|(11,[10],[1.0])|         1.0|  (3,[1],[1.0])|           1.0|    (7,[1],[1.0])|         0.0|  (2,[0],[1.0])|         1.0|  (2,[1],[1.0])|      0.0|(2,[0],[1.0])|         1.0|      (1,[],[])|       4.0|(9,[4],[1.0])|             0.0|      (4,[0],[1.0])|          0.0|   (2,[0],[1.0])|   0.0|(1,[0],[1.0])|  0.0|(48,[10,12,15,21,...|[0.56548591300526...|[0.75601820154831...|       0.0|\n",
      "| 18|student| single|high.school|     no|    yes|     no| cellular|  may|        fri|       1|    1|       2|    success|        -1.8|        92.893|        -46.2|    1.259|     5099.1| no|    10.0|(11,[10],[1.0])|         1.0|  (3,[1],[1.0])|           1.0|    (7,[1],[1.0])|         0.0|  (2,[0],[1.0])|         0.0|  (2,[0],[1.0])|      0.0|(2,[0],[1.0])|         0.0|  (1,[0],[1.0])|       0.0|(9,[0],[1.0])|             4.0|          (4,[],[])|          2.0|       (2,[],[])|   0.0|(1,[0],[1.0])|  0.0|(48,[10,12,15,21,...|[0.79787360805712...|[0.83142316037007...|       0.0|\n",
      "| 18|student| single|high.school|     no|    yes|    yes| cellular|  mar|        tue|       1|  999|       0|nonexistent|        -1.8|        92.843|        -50.0|    1.687|     5099.1| no|    10.0|(11,[10],[1.0])|         1.0|  (3,[1],[1.0])|           1.0|    (7,[1],[1.0])|         0.0|  (2,[0],[1.0])|         0.0|  (2,[0],[1.0])|      1.0|(2,[1],[1.0])|         0.0|  (1,[0],[1.0])|       8.0|(9,[8],[1.0])|             3.0|      (4,[3],[1.0])|          0.0|   (2,[0],[1.0])|   0.0|(1,[0],[1.0])|  0.0|(48,[10,12,15,21,...|[0.05172896809608...|[0.52584143857642...|       0.0|\n",
      "| 18|student| single|    unknown|     no|     no|     no| cellular|  sep|        thu|       1|    3|       1|    success|        -3.4|        92.379|        -29.8|    0.809|     5017.5|yes|    10.0|(11,[10],[1.0])|         1.0|  (3,[1],[1.0])|           6.0|    (7,[6],[1.0])|         0.0|  (2,[0],[1.0])|         1.0|  (2,[1],[1.0])|      0.0|(2,[0],[1.0])|         0.0|  (1,[0],[1.0])|       7.0|(9,[7],[1.0])|             0.0|      (4,[0],[1.0])|          2.0|       (2,[],[])|   1.0|    (1,[],[])|  1.0|(48,[10,12,20,21,...|[-0.8191954126507...|[0.16268414219549...|       1.0|\n",
      "| 18|student| single|    unknown|     no|     no|     no|telephone|  sep|        tue|       2|  999|       0|nonexistent|        -3.4|        92.379|        -29.8|    0.788|     5017.5| no|    10.0|(11,[10],[1.0])|         1.0|  (3,[1],[1.0])|           6.0|    (7,[6],[1.0])|         0.0|  (2,[0],[1.0])|         1.0|  (2,[1],[1.0])|      0.0|(2,[0],[1.0])|         1.0|      (1,[],[])|       7.0|(9,[7],[1.0])|             3.0|      (4,[3],[1.0])|          0.0|   (2,[0],[1.0])|   0.0|(1,[0],[1.0])|  0.0|(48,[10,12,20,21,...|[0.99902320055136...|[0.88059180998656...|       0.0|\n",
      "| 18|student| single|    unknown|     no|unknown|unknown| cellular|  sep|        thu|       2|  999|       0|nonexistent|        -3.4|        92.379|        -29.8|    0.809|     5017.5| no|    10.0|(11,[10],[1.0])|         1.0|  (3,[1],[1.0])|           6.0|    (7,[6],[1.0])|         0.0|  (2,[0],[1.0])|         2.0|      (2,[],[])|      2.0|    (2,[],[])|         0.0|  (1,[0],[1.0])|       7.0|(9,[7],[1.0])|             0.0|      (4,[0],[1.0])|          0.0|   (2,[0],[1.0])|   0.0|(1,[0],[1.0])|  0.0|(48,[10,12,20,21,...|[0.04993865214314...|[0.52494859001396...|       0.0|\n",
      "| 18|student| single|    unknown|     no|    yes|     no| cellular|  sep|        fri|       1|  999|       0|nonexistent|        -3.4|        92.379|        -29.8|    0.803|     5017.5|yes|    10.0|(11,[10],[1.0])|         1.0|  (3,[1],[1.0])|           6.0|    (7,[6],[1.0])|         0.0|  (2,[0],[1.0])|         0.0|  (2,[0],[1.0])|      0.0|(2,[0],[1.0])|         0.0|  (1,[0],[1.0])|       7.0|(9,[7],[1.0])|             4.0|          (4,[],[])|          0.0|   (2,[0],[1.0])|   1.0|    (1,[],[])|  1.0|(48,[10,12,20,21,...|[0.10884683580444...|[0.55420950203111...|       0.0|\n",
      "| 18|student| single|    unknown|     no|    yes|     no| cellular|  sep|        thu|       1|  999|       0|nonexistent|        -3.4|        92.379|        -29.8|    0.809|     5017.5| no|    10.0|(11,[10],[1.0])|         1.0|  (3,[1],[1.0])|           6.0|    (7,[6],[1.0])|         0.0|  (2,[0],[1.0])|         0.0|  (2,[0],[1.0])|      0.0|(2,[0],[1.0])|         0.0|  (1,[0],[1.0])|       7.0|(9,[7],[1.0])|             0.0|      (4,[0],[1.0])|          0.0|   (2,[0],[1.0])|   0.0|(1,[0],[1.0])|  0.0|(48,[10,12,20,21,...|[0.10884683580444...|[0.55420950203111...|       0.0|\n",
      "| 19|student| single|   basic.6y|     no|     no|     no| cellular|  mar|        tue|       1|  999|       0|nonexistent|        -1.8|        92.843|        -50.0|    1.556|     5099.1|yes|    10.0|(11,[10],[1.0])|         1.0|  (3,[1],[1.0])|           5.0|    (7,[5],[1.0])|         0.0|  (2,[0],[1.0])|         1.0|  (2,[1],[1.0])|      0.0|(2,[0],[1.0])|         0.0|  (1,[0],[1.0])|       8.0|(9,[8],[1.0])|             3.0|      (4,[3],[1.0])|          0.0|   (2,[0],[1.0])|   1.0|    (1,[],[])|  1.0|(48,[10,12,19,21,...|[-0.1036973926088...|[0.44833635337921...|       1.0|\n",
      "| 19|student| single|   basic.9y|     no|     no|     no| cellular|  apr|        thu|       3|  999|       0|nonexistent|        -1.8|        93.075|        -47.1|     1.41|     5099.1| no|    10.0|(11,[10],[1.0])|         1.0|  (3,[1],[1.0])|           2.0|    (7,[2],[1.0])|         0.0|  (2,[0],[1.0])|         1.0|  (2,[1],[1.0])|      0.0|(2,[0],[1.0])|         0.0|  (1,[0],[1.0])|       5.0|(9,[5],[1.0])|             0.0|      (4,[0],[1.0])|          0.0|   (2,[0],[1.0])|   0.0|(1,[0],[1.0])|  0.0|(48,[10,12,16,21,...|[0.34627268490254...|[0.66653291753212...|       0.0|\n",
      "| 19|student| single|   basic.9y|     no|     no|     no| cellular|  apr|        tue|       3|  999|       0|nonexistent|        -1.8|        93.075|        -47.1|    1.453|     5099.1| no|    10.0|(11,[10],[1.0])|         1.0|  (3,[1],[1.0])|           2.0|    (7,[2],[1.0])|         0.0|  (2,[0],[1.0])|         1.0|  (2,[1],[1.0])|      0.0|(2,[0],[1.0])|         0.0|  (1,[0],[1.0])|       5.0|(9,[5],[1.0])|             3.0|      (4,[3],[1.0])|          0.0|   (2,[0],[1.0])|   0.0|(1,[0],[1.0])|  0.0|(48,[10,12,16,21,...|[0.37973787842468...|[0.68123990410744...|       0.0|\n",
      "| 19|student| single|   basic.9y|     no|     no|     no| cellular|  aug|        mon|       1|    3|       1|    success|        -2.9|        92.201|        -31.4|    0.884|     5076.2| no|    10.0|(11,[10],[1.0])|         1.0|  (3,[1],[1.0])|           2.0|    (7,[2],[1.0])|         0.0|  (2,[0],[1.0])|         1.0|  (2,[1],[1.0])|      0.0|(2,[0],[1.0])|         0.0|  (1,[0],[1.0])|       2.0|(9,[2],[1.0])|             1.0|      (4,[1],[1.0])|          2.0|       (2,[],[])|   0.0|(1,[0],[1.0])|  0.0|(48,[10,12,16,21,...|[0.49822405056753...|[0.73035966006212...|       0.0|\n",
      "| 19|student| single|   basic.9y|     no|    yes|     no| cellular|  apr|        tue|       1|  999|       0|nonexistent|        -1.8|        93.075|        -47.1|    1.453|     5099.1|yes|    10.0|(11,[10],[1.0])|         1.0|  (3,[1],[1.0])|           2.0|    (7,[2],[1.0])|         0.0|  (2,[0],[1.0])|         0.0|  (2,[0],[1.0])|      0.0|(2,[0],[1.0])|         0.0|  (1,[0],[1.0])|       5.0|(9,[5],[1.0])|             3.0|      (4,[3],[1.0])|          0.0|   (2,[0],[1.0])|   1.0|    (1,[],[])|  1.0|(48,[10,12,16,21,...|[0.35755877702669...|[0.67153096448374...|       0.0|\n",
      "| 19|student| single|   basic.9y|     no|    yes|     no| cellular|  mar|        fri|       4|  999|       0|nonexistent|        -1.8|        92.843|        -50.0|     1.64|     5099.1|yes|    10.0|(11,[10],[1.0])|         1.0|  (3,[1],[1.0])|           2.0|    (7,[2],[1.0])|         0.0|  (2,[0],[1.0])|         0.0|  (2,[0],[1.0])|      0.0|(2,[0],[1.0])|         0.0|  (1,[0],[1.0])|       8.0|(9,[8],[1.0])|             4.0|          (4,[],[])|          0.0|   (2,[0],[1.0])|   1.0|    (1,[],[])|  1.0|(48,[10,12,16,21,...|[-0.2151544611072...|[0.39405256620913...|       1.0|\n",
      "| 19|student| single|high.school|unknown|     no|    yes| cellular|  may|        tue|       4|  999|       0|nonexistent|        -1.8|        92.893|        -46.2|    1.344|     5099.1| no|    10.0|(11,[10],[1.0])|         1.0|  (3,[1],[1.0])|           1.0|    (7,[1],[1.0])|         1.0|  (2,[1],[1.0])|         1.0|  (2,[1],[1.0])|      1.0|(2,[1],[1.0])|         0.0|  (1,[0],[1.0])|       0.0|(9,[0],[1.0])|             3.0|      (4,[3],[1.0])|          0.0|   (2,[0],[1.0])|   0.0|(1,[0],[1.0])|  0.0|(48,[10,12,15,22,...|[1.25911016952084...|[0.92540930327671...|       0.0|\n",
      "+---+-------+-------+-----------+-------+-------+-------+---------+-----+-----------+--------+-----+--------+-----------+------------+--------------+-------------+---------+-----------+---+--------+---------------+------------+---------------+--------------+-----------------+------------+---------------+------------+---------------+---------+-------------+------------+---------------+----------+-------------+----------------+-------------------+-------------+----------------+------+-------------+-----+--------------------+--------------------+--------------------+----------+\n",
      "only showing top 20 rows\n",
      "\n"
     ]
    }
   ],
   "source": [
    "#\n",
    "spark.sql(\"SELECT * FROM default.boosting_output\").show()"
   ]
  },
  {
   "cell_type": "code",
   "execution_count": 30,
   "metadata": {},
   "outputs": [],
   "source": [
    "results_collect = results.collect()\n",
    "results_list = [(float(i[0][0]), 1.0-float(i[1])) for i in results_collect]\n",
    "scoreAndLabels = sc.parallelize(results_list)"
   ]
  },
  {
   "cell_type": "code",
   "execution_count": 31,
   "metadata": {},
   "outputs": [
    {
     "name": "stdout",
     "output_type": "stream",
     "text": [
      "The ROC score is (@maxIter=100):  0.8417852162931738\n"
     ]
    }
   ],
   "source": [
    "metrics = metric(scoreAndLabels)\n",
    "print(\"The ROC score is (@maxIter=100): \", metrics.areaUnderROC)"
   ]
  },
  {
   "cell_type": "code",
   "execution_count": 32,
   "metadata": {},
   "outputs": [
    {
     "data": {
      "image/png": "[encoded data removed]",
      "text/plain": [
       "<Figure size 432x288 with 1 Axes>"
      ]
     },
     "metadata": {
      "needs_background": "light"
     },
     "output_type": "display_data"
    }
   ],
   "source": [
    "from sklearn.metrics import roc_curve, auc\n",
    "from matplotlib import pyplot as plt\n",
    " \n",
    "fpr = dict()\n",
    "tpr = dict()\n",
    "roc_auc = dict()\n",
    " \n",
    "y_test = [i[1] for i in results_list]\n",
    "y_score = [i[0] for i in results_list]\n",
    " \n",
    "fpr, tpr, _ = roc_curve(y_test, y_score)\n",
    "roc_auc = auc(fpr, tpr)\n",
    " \n",
    "get_ipython().run_line_magic('matplotlib', 'inline')\n",
    "plt.figure()\n",
    "plt.plot(fpr, tpr, label='ROC curve (area = %0.2f)' % roc_auc)\n",
    "plt.plot([0, 1], [0, 1], 'k--')\n",
    "plt.xlim([0.0, 1.0])\n",
    "plt.ylim([0.0, 1.05])\n",
    "plt.xlabel('False Positive Rate')\n",
    "plt.ylabel('True Positive Rate')\n",
    "plt.title('Receiver operating characteristic example')\n",
    "plt.legend(loc=\"lower right\")\n",
    "plt.show()\n",
    "display()"
   ]
  },
  {
   "cell_type": "code",
   "execution_count": null,
   "metadata": {},
   "outputs": [],
   "source": []
  }
 ],
 "metadata": {
  "kernelspec": {
   "display_name": "Python 3",
   "language": "python",
   "name": "python3"
  },
  "language_info": {
   "codemirror_mode": {
    "name": "ipython",
    "version": 3
   },
   "file_extension": ".py",
   "mimetype": "text/x-python",
   "name": "python",
   "nbconvert_exporter": "python",
   "pygments_lexer": "ipython3",
   "version": "3.6.3"
  },
  "name": "Projeto_Grupo_2_BooST_Com_Feature_Importance",
  "notebookId": 1568374539907959
 },
 "nbformat": 4,
 "nbformat_minor": 1
}
