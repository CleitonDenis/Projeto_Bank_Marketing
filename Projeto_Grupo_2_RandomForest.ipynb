{
 "cells": [
  {
   "cell_type": "markdown",
   "metadata": {},
   "source": [
    "## Overview\n",
    "\n",
    "This notebook will show you how to create and query a table or DataFrame that you uploaded to DBFS. [DBFS](https://docs.databricks.com/user-guide/dbfs-databricks-file-system.html) is a Databricks File System that allows you to store data for querying inside of Databricks. This notebook assumes that you have a file already inside of DBFS that you would like to read from.\n",
    "\n",
    "This notebook is written in **Python** so the default cell type is Python. However, you can use different languages by using the `%LANGUAGE` syntax. Python, Scala, SQL, and R are all supported."
   ]
  },
  {
   "cell_type": "code",
   "execution_count": 1,
   "metadata": {},
   "outputs": [],
   "source": [
    "from pyspark.sql import SparkSession\n",
    "from pyspark import HiveContext\n",
    "from pyspark.sql.functions import monotonically_increasing_id\n",
    "from pyspark.ml.linalg import Vectors\n",
    "from pyspark.ml.feature import VectorAssembler\n",
    "from pyspark.ml.evaluation import RegressionEvaluator\n",
    "from pyspark.ml.classification import LogisticRegression, LogisticRegressionModel\n",
    "from pyspark.mllib.evaluation import BinaryClassificationMetrics as metric\n",
    "from pyspark.ml.feature import OneHotEncoder, StringIndexer, VectorAssembler,OneHotEncoder\n",
    "from pyspark.ml.classification import RandomForestClassifier, RandomForestClassificationModel\n",
    "from pyspark.mllib.evaluation import BinaryClassificationMetrics as metric\n",
    "from pyspark.ml import Pipeline\n"
   ]
  },
  {
   "cell_type": "code",
   "execution_count": 2,
   "metadata": {},
   "outputs": [
    {
     "data": {
      "text/plain": [
       "[('spark.sql.catalogImplementation', 'hive'),\n",
       " ('spark.rdd.compress', 'True'),\n",
       " ('spark.driver.host', '10.30.30.21'),\n",
       " ('spark.serializer.objectStreamReset', '100'),\n",
       " ('spark.driver.port', '44127'),\n",
       " ('spark.master', 'local[*]'),\n",
       " ('spark.executor.id', 'driver'),\n",
       " ('spark.submit.deployMode', 'client'),\n",
       " ('spark.app.id', 'local-1559696620353'),\n",
       " ('spark.app.name', 'PySparkShell')]"
      ]
     },
     "execution_count": 2,
     "metadata": {},
     "output_type": "execute_result"
    }
   ],
   "source": [
    "spark.sparkContext._conf.getAll()"
   ]
  },
  {
   "cell_type": "code",
   "execution_count": 3,
   "metadata": {},
   "outputs": [],
   "source": [
    "conf = spark.sparkContext._conf.setAll([\n",
    "    (\"hive.metastore.uris\", \"thrift://localhost:9083\")])"
   ]
  },
  {
   "cell_type": "code",
   "execution_count": 4,
   "metadata": {},
   "outputs": [],
   "source": [
    "spark.stop()"
   ]
  },
  {
   "cell_type": "code",
   "execution_count": 5,
   "metadata": {},
   "outputs": [],
   "source": [
    "sc = SparkContext()"
   ]
  },
  {
   "cell_type": "code",
   "execution_count": 6,
   "metadata": {},
   "outputs": [],
   "source": [
    "spark = SparkSession.builder.config(conf=conf).getOrCreate()"
   ]
  },
  {
   "cell_type": "code",
   "execution_count": 7,
   "metadata": {},
   "outputs": [
    {
     "data": {
      "text/plain": [
       "[('spark.sql.catalogImplementation', 'hive'),\n",
       " ('spark.rdd.compress', 'True'),\n",
       " ('spark.driver.host', '10.30.30.21'),\n",
       " ('hive.metastore.uris', 'thrift://localhost:9083'),\n",
       " ('spark.serializer.objectStreamReset', '100'),\n",
       " ('spark.driver.port', '44127'),\n",
       " ('spark.master', 'local[*]'),\n",
       " ('spark.executor.id', 'driver'),\n",
       " ('spark.submit.deployMode', 'client'),\n",
       " ('spark.app.id', 'local-1559696620353'),\n",
       " ('spark.app.name', 'PySparkShell')]"
      ]
     },
     "execution_count": 7,
     "metadata": {},
     "output_type": "execute_result"
    }
   ],
   "source": [
    "spark.sparkContext._conf.getAll()"
   ]
  },
  {
   "cell_type": "code",
   "execution_count": 8,
   "metadata": {},
   "outputs": [
    {
     "name": "stdout",
     "output_type": "stream",
     "text": [
      "+--------+---------------+-----------+\n",
      "|database|      tableName|isTemporary|\n",
      "+--------+---------------+-----------+\n",
      "| default|boosting_output|      false|\n",
      "| default|   movieratings|      false|\n",
      "+--------+---------------+-----------+\n",
      "\n"
     ]
    }
   ],
   "source": [
    "df = spark.sql(\"SHOW TABLES\")\n",
    "df.show()"
   ]
  },
  {
   "cell_type": "code",
   "execution_count": 9,
   "metadata": {},
   "outputs": [],
   "source": [
    "# Load File from HDFS\n",
    "# file_location = \"/FileStore/tables/bank_additional_full_no_header-a99ad.csv\"\n",
    "file_location = 'hdfs:///user/labdata/marketing/bank-additional-full.csv'\n",
    "file_type = \"csv\"\n",
    "\n",
    "# CSV options\n",
    "infer_schema = \"true\"\n",
    "first_row_is_header = \"false\"\n",
    "delimiter = \";\"\n",
    "\n",
    "# The applied options are for CSV files. For other file types, these will be ignored.\n",
    "df_marketing_data = spark.read.format(file_type) \\\n",
    "  .option(\"inferSchema\", infer_schema) \\\n",
    "  .option(\"header\", first_row_is_header) \\\n",
    "  .option(\"sep\", delimiter) \\\n",
    "  .load(file_location)\n",
    "\n"
   ]
  },
  {
   "cell_type": "code",
   "execution_count": 11,
   "metadata": {},
   "outputs": [
    {
     "name": "stdout",
     "output_type": "stream",
     "text": [
      "root\n",
      " |-- age: integer (nullable = true)\n",
      " |-- job: string (nullable = true)\n",
      " |-- marital: string (nullable = true)\n",
      " |-- education: string (nullable = true)\n",
      " |-- default: string (nullable = true)\n",
      " |-- housing: string (nullable = true)\n",
      " |-- loan: string (nullable = true)\n",
      " |-- contact: string (nullable = true)\n",
      " |-- month: string (nullable = true)\n",
      " |-- day_of_week: string (nullable = true)\n",
      " |-- campaign: integer (nullable = true)\n",
      " |-- pdays: integer (nullable = true)\n",
      " |-- previous: integer (nullable = true)\n",
      " |-- poutcome: string (nullable = true)\n",
      " |-- emp_var_rate: double (nullable = true)\n",
      " |-- cons_price_idx: double (nullable = true)\n",
      " |-- cons_conf_idx: double (nullable = true)\n",
      " |-- euribor3m: double (nullable = true)\n",
      " |-- nr_employed: double (nullable = true)\n",
      " |-- deposit: string (nullable = true)\n",
      "\n"
     ]
    }
   ],
   "source": [
    "# Rename Column Names to the Original Header\n",
    "DefColumnNames=df_marketing_data.schema.names\n",
    "HeaderNames=['age','job','marital','education','default','housing','loan','contact','month','day_of_week','duration','campaign','pdays','previous',\t'poutcome','emp_var_rate','cons_price_idx','cons_conf_idx','euribor3m','nr_employed','deposit']\n",
    "\n",
    "for Idx in range(0,21):\n",
    "    df_marketing_data=df_marketing_data.withColumnRenamed(DefColumnNames[Idx],HeaderNames[Idx])\n",
    "df_marketing_data = df_marketing_data.drop ('duration')    \n",
    "df_marketing_data.printSchema()"
   ]
  },
  {
   "cell_type": "code",
   "execution_count": 12,
   "metadata": {},
   "outputs": [
    {
     "name": "stdout",
     "output_type": "stream",
     "text": [
      "['job', 'marital', 'education', 'default', 'housing', 'loan', 'contact', 'month', 'day_of_week', 'poutcome', 'deposit']\n",
      "['age', 'campaign', 'pdays', 'previous', 'emp_var_rate', 'cons_price_idx', 'cons_conf_idx', 'euribor3m', 'nr_employed']\n"
     ]
    }
   ],
   "source": [
    "categoricalColumns = []\n",
    "numericCols = []\n",
    "for i in df_marketing_data.dtypes:\n",
    "    if i[1]=='string':\n",
    "        categoricalColumns  += [i[0]]\n",
    "    elif i[1]=='int' or i[1]=='double':\n",
    "        numericCols  += [i[0]]\n",
    "\n",
    "print(categoricalColumns)\n",
    "print(numericCols)"
   ]
  },
  {
   "cell_type": "code",
   "execution_count": 13,
   "metadata": {},
   "outputs": [],
   "source": [
    "# Handling Categorical Columns using StringIndex/Encoder\n",
    "#categoricalColumns = ['job', 'marital', 'education', 'default', 'housing', 'loan', 'contact', 'month','poutcome']\n",
    "\n",
    "stages = [] \n",
    "for categoricalCol in categoricalColumns:\n",
    "  stringIndexer = StringIndexer(inputCol=categoricalCol, outputCol=categoricalCol+\"Index\")\n",
    "  encoder = OneHotEncoder(inputCol=categoricalCol+\"Index\", outputCol=categoricalCol+\"classVec\")\n",
    "  stages += [stringIndexer, encoder]\n",
    "  \n",
    "#numericCols = ['age', 'balance', 'duration', 'campaign', 'pdays', 'previous']  \n",
    "label_stringIdx = StringIndexer(inputCol = \"deposit\", outputCol = \"label\")\n",
    "stages += [label_stringIdx]\n",
    "\n"
   ]
  },
  {
   "cell_type": "code",
   "execution_count": 14,
   "metadata": {},
   "outputs": [],
   "source": [
    "## Assembler Inputs\n",
    "assemblerInputs = ['jobclassVec', 'maritalclassVec', 'educationclassVec', 'defaultclassVec', 'housingclassVec', 'loanclassVec', 'contactclassVec', 'monthclassVec','day_of_weekclassVec','poutcomeclassVec'] + numericCols\n",
    "assembler = VectorAssembler(inputCols=assemblerInputs, outputCol=\"features\")\n",
    "stages += [assembler]\n"
   ]
  },
  {
   "cell_type": "code",
   "execution_count": 15,
   "metadata": {},
   "outputs": [
    {
     "name": "stdout",
     "output_type": "stream",
     "text": [
      "root\n",
      " |-- age: integer (nullable = true)\n",
      " |-- job: string (nullable = true)\n",
      " |-- marital: string (nullable = true)\n",
      " |-- education: string (nullable = true)\n",
      " |-- default: string (nullable = true)\n",
      " |-- housing: string (nullable = true)\n",
      " |-- loan: string (nullable = true)\n",
      " |-- contact: string (nullable = true)\n",
      " |-- month: string (nullable = true)\n",
      " |-- day_of_week: string (nullable = true)\n",
      " |-- campaign: integer (nullable = true)\n",
      " |-- pdays: integer (nullable = true)\n",
      " |-- previous: integer (nullable = true)\n",
      " |-- poutcome: string (nullable = true)\n",
      " |-- emp_var_rate: double (nullable = true)\n",
      " |-- cons_price_idx: double (nullable = true)\n",
      " |-- cons_conf_idx: double (nullable = true)\n",
      " |-- euribor3m: double (nullable = true)\n",
      " |-- nr_employed: double (nullable = true)\n",
      " |-- deposit: string (nullable = true)\n",
      " |-- jobIndex: double (nullable = true)\n",
      " |-- jobclassVec: vector (nullable = true)\n",
      " |-- maritalIndex: double (nullable = true)\n",
      " |-- maritalclassVec: vector (nullable = true)\n",
      " |-- educationIndex: double (nullable = true)\n",
      " |-- educationclassVec: vector (nullable = true)\n",
      " |-- defaultIndex: double (nullable = true)\n",
      " |-- defaultclassVec: vector (nullable = true)\n",
      " |-- housingIndex: double (nullable = true)\n",
      " |-- housingclassVec: vector (nullable = true)\n",
      " |-- loanIndex: double (nullable = true)\n",
      " |-- loanclassVec: vector (nullable = true)\n",
      " |-- contactIndex: double (nullable = true)\n",
      " |-- contactclassVec: vector (nullable = true)\n",
      " |-- monthIndex: double (nullable = true)\n",
      " |-- monthclassVec: vector (nullable = true)\n",
      " |-- day_of_weekIndex: double (nullable = true)\n",
      " |-- day_of_weekclassVec: vector (nullable = true)\n",
      " |-- poutcomeIndex: double (nullable = true)\n",
      " |-- poutcomeclassVec: vector (nullable = true)\n",
      " |-- depositIndex: double (nullable = true)\n",
      " |-- depositclassVec: vector (nullable = true)\n",
      " |-- label: double (nullable = true)\n",
      " |-- features: vector (nullable = true)\n",
      "\n"
     ]
    }
   ],
   "source": [
    "## PipeLine\n",
    "pipeline = Pipeline(stages=stages)\n",
    "pipelineModel = pipeline.fit(df_marketing_data)\n",
    "df_marketing_data_prep = pipelineModel.transform(df_marketing_data)\n",
    "df_marketing_data_prep.printSchema()"
   ]
  },
  {
   "cell_type": "code",
   "execution_count": 16,
   "metadata": {},
   "outputs": [
    {
     "data": {
      "text/plain": [
       "[Row(age=56, job='housemaid', marital='married', education='basic.4y', default='no', housing='no', loan='no', contact='telephone', month='may', day_of_week='mon', campaign=1, pdays=999, previous=0, poutcome='nonexistent', emp_var_rate=1.1, cons_price_idx=93.994, cons_conf_idx=-36.4, euribor3m=4.857, nr_employed=5191.0, deposit='no', jobIndex=8.0, jobclassVec=SparseVector(11, {8: 1.0}), maritalIndex=0.0, maritalclassVec=SparseVector(3, {0: 1.0}), educationIndex=4.0, educationclassVec=SparseVector(7, {4: 1.0}), defaultIndex=0.0, defaultclassVec=SparseVector(2, {0: 1.0}), housingIndex=1.0, housingclassVec=SparseVector(2, {1: 1.0}), loanIndex=0.0, loanclassVec=SparseVector(2, {0: 1.0}), contactIndex=1.0, contactclassVec=SparseVector(1, {}), monthIndex=0.0, monthclassVec=SparseVector(9, {0: 1.0}), day_of_weekIndex=1.0, day_of_weekclassVec=SparseVector(4, {1: 1.0}), poutcomeIndex=0.0, poutcomeclassVec=SparseVector(2, {0: 1.0}), depositIndex=0.0, depositclassVec=SparseVector(1, {0: 1.0}), label=0.0, features=SparseVector(52, {8: 1.0, 11: 1.0, 18: 1.0, 21: 1.0, 24: 1.0, 25: 1.0, 28: 1.0, 38: 1.0, 41: 1.0, 43: 56.0, 44: 1.0, 45: 999.0, 47: 1.1, 48: 93.994, 49: -36.4, 50: 4.857, 51: 5191.0})),\n",
       " Row(age=57, job='services', marital='married', education='high.school', default='unknown', housing='no', loan='no', contact='telephone', month='may', day_of_week='mon', campaign=1, pdays=999, previous=0, poutcome='nonexistent', emp_var_rate=1.1, cons_price_idx=93.994, cons_conf_idx=-36.4, euribor3m=4.857, nr_employed=5191.0, deposit='no', jobIndex=3.0, jobclassVec=SparseVector(11, {3: 1.0}), maritalIndex=0.0, maritalclassVec=SparseVector(3, {0: 1.0}), educationIndex=1.0, educationclassVec=SparseVector(7, {1: 1.0}), defaultIndex=1.0, defaultclassVec=SparseVector(2, {1: 1.0}), housingIndex=1.0, housingclassVec=SparseVector(2, {1: 1.0}), loanIndex=0.0, loanclassVec=SparseVector(2, {0: 1.0}), contactIndex=1.0, contactclassVec=SparseVector(1, {}), monthIndex=0.0, monthclassVec=SparseVector(9, {0: 1.0}), day_of_weekIndex=1.0, day_of_weekclassVec=SparseVector(4, {1: 1.0}), poutcomeIndex=0.0, poutcomeclassVec=SparseVector(2, {0: 1.0}), depositIndex=0.0, depositclassVec=SparseVector(1, {0: 1.0}), label=0.0, features=SparseVector(52, {3: 1.0, 11: 1.0, 15: 1.0, 22: 1.0, 24: 1.0, 25: 1.0, 28: 1.0, 38: 1.0, 41: 1.0, 43: 57.0, 44: 1.0, 45: 999.0, 47: 1.1, 48: 93.994, 49: -36.4, 50: 4.857, 51: 5191.0})),\n",
       " Row(age=37, job='services', marital='married', education='high.school', default='no', housing='yes', loan='no', contact='telephone', month='may', day_of_week='mon', campaign=1, pdays=999, previous=0, poutcome='nonexistent', emp_var_rate=1.1, cons_price_idx=93.994, cons_conf_idx=-36.4, euribor3m=4.857, nr_employed=5191.0, deposit='no', jobIndex=3.0, jobclassVec=SparseVector(11, {3: 1.0}), maritalIndex=0.0, maritalclassVec=SparseVector(3, {0: 1.0}), educationIndex=1.0, educationclassVec=SparseVector(7, {1: 1.0}), defaultIndex=0.0, defaultclassVec=SparseVector(2, {0: 1.0}), housingIndex=0.0, housingclassVec=SparseVector(2, {0: 1.0}), loanIndex=0.0, loanclassVec=SparseVector(2, {0: 1.0}), contactIndex=1.0, contactclassVec=SparseVector(1, {}), monthIndex=0.0, monthclassVec=SparseVector(9, {0: 1.0}), day_of_weekIndex=1.0, day_of_weekclassVec=SparseVector(4, {1: 1.0}), poutcomeIndex=0.0, poutcomeclassVec=SparseVector(2, {0: 1.0}), depositIndex=0.0, depositclassVec=SparseVector(1, {0: 1.0}), label=0.0, features=SparseVector(52, {3: 1.0, 11: 1.0, 15: 1.0, 21: 1.0, 23: 1.0, 25: 1.0, 28: 1.0, 38: 1.0, 41: 1.0, 43: 37.0, 44: 1.0, 45: 999.0, 47: 1.1, 48: 93.994, 49: -36.4, 50: 4.857, 51: 5191.0})),\n",
       " Row(age=40, job='admin.', marital='married', education='basic.6y', default='no', housing='no', loan='no', contact='telephone', month='may', day_of_week='mon', campaign=1, pdays=999, previous=0, poutcome='nonexistent', emp_var_rate=1.1, cons_price_idx=93.994, cons_conf_idx=-36.4, euribor3m=4.857, nr_employed=5191.0, deposit='no', jobIndex=0.0, jobclassVec=SparseVector(11, {0: 1.0}), maritalIndex=0.0, maritalclassVec=SparseVector(3, {0: 1.0}), educationIndex=5.0, educationclassVec=SparseVector(7, {5: 1.0}), defaultIndex=0.0, defaultclassVec=SparseVector(2, {0: 1.0}), housingIndex=1.0, housingclassVec=SparseVector(2, {1: 1.0}), loanIndex=0.0, loanclassVec=SparseVector(2, {0: 1.0}), contactIndex=1.0, contactclassVec=SparseVector(1, {}), monthIndex=0.0, monthclassVec=SparseVector(9, {0: 1.0}), day_of_weekIndex=1.0, day_of_weekclassVec=SparseVector(4, {1: 1.0}), poutcomeIndex=0.0, poutcomeclassVec=SparseVector(2, {0: 1.0}), depositIndex=0.0, depositclassVec=SparseVector(1, {0: 1.0}), label=0.0, features=SparseVector(52, {0: 1.0, 11: 1.0, 19: 1.0, 21: 1.0, 24: 1.0, 25: 1.0, 28: 1.0, 38: 1.0, 41: 1.0, 43: 40.0, 44: 1.0, 45: 999.0, 47: 1.1, 48: 93.994, 49: -36.4, 50: 4.857, 51: 5191.0})),\n",
       " Row(age=56, job='services', marital='married', education='high.school', default='no', housing='no', loan='yes', contact='telephone', month='may', day_of_week='mon', campaign=1, pdays=999, previous=0, poutcome='nonexistent', emp_var_rate=1.1, cons_price_idx=93.994, cons_conf_idx=-36.4, euribor3m=4.857, nr_employed=5191.0, deposit='no', jobIndex=3.0, jobclassVec=SparseVector(11, {3: 1.0}), maritalIndex=0.0, maritalclassVec=SparseVector(3, {0: 1.0}), educationIndex=1.0, educationclassVec=SparseVector(7, {1: 1.0}), defaultIndex=0.0, defaultclassVec=SparseVector(2, {0: 1.0}), housingIndex=1.0, housingclassVec=SparseVector(2, {1: 1.0}), loanIndex=1.0, loanclassVec=SparseVector(2, {1: 1.0}), contactIndex=1.0, contactclassVec=SparseVector(1, {}), monthIndex=0.0, monthclassVec=SparseVector(9, {0: 1.0}), day_of_weekIndex=1.0, day_of_weekclassVec=SparseVector(4, {1: 1.0}), poutcomeIndex=0.0, poutcomeclassVec=SparseVector(2, {0: 1.0}), depositIndex=0.0, depositclassVec=SparseVector(1, {0: 1.0}), label=0.0, features=SparseVector(52, {3: 1.0, 11: 1.0, 15: 1.0, 21: 1.0, 24: 1.0, 26: 1.0, 28: 1.0, 38: 1.0, 41: 1.0, 43: 56.0, 44: 1.0, 45: 999.0, 47: 1.1, 48: 93.994, 49: -36.4, 50: 4.857, 51: 5191.0}))]"
      ]
     },
     "execution_count": 16,
     "metadata": {},
     "output_type": "execute_result"
    }
   ],
   "source": [
    "df_marketing_data_prep.take(5)\n"
   ]
  },
  {
   "cell_type": "code",
   "execution_count": 17,
   "metadata": {},
   "outputs": [],
   "source": [
    "# Divisão dos Dados de Teste e Treino\n",
    "(marketing_model_treino, marketing_model_teste) = df_marketing_data_prep.randomSplit([0.7, 0.3])\n"
   ]
  },
  {
   "cell_type": "code",
   "execution_count": 18,
   "metadata": {},
   "outputs": [],
   "source": [
    "# Definindo Numero de Arvores\n",
    "modelo =  RandomForestClassifier(featuresCol=\"features\").setNumTrees(100)"
   ]
  },
  {
   "cell_type": "code",
   "execution_count": 19,
   "metadata": {},
   "outputs": [
    {
     "name": "stdout",
     "output_type": "stream",
     "text": [
      "(52,[0,1,2,3,4,5,6,7,8,9,10,11,12,13,14,15,16,17,18,19,20,21,22,23,24,25,26,27,28,29,30,31,32,33,34,35,36,37,38,39,40,41,42,43,44,45,46,47,48,49,50,51],[0.0006705108661640729,0.002161657683086589,0.0005734176579959931,0.0004262521511439382,0.0005186550150947832,0.001876269949621637,0.00033806297497945874,0.0005254846541944077,0.00012914979216743438,0.0001824983639196838,0.0023019694594873055,0.0004320687255771988,0.0006428226398941071,0.00046086577556948816,0.0010400789947641192,0.001001839658227274,0.0006372179396928386,0.0007021327845227091,0.00037192484910320196,0.0004380093705322684,0.0007737548377592699,0.0014062012698582776,0.0022709792853826427,0.0004719181364820079,0.000602041828061702,0.0005487355084603763,0.0005126693404563093,0.01474685246495978,0.014061021017010305,0.000980850736765406,0.0014174951207774685,0.0015541973495046399,0.0005814000024891434,0.01029875114058305,0.01624305623314624,0.0013857150078692812,0.011632603748333394,0.0017271708463932555,0.002833802140712272,0.0007885310556946882,0.0008713998360729534,0.01901655745488842,0.025731806162645927,0.013634316129580574,0.004854727303084206,0.1399633981542219,0.025552185981196924,0.09473716833953227,0.0365672135065326,0.0826844962431634,0.2158101485343889,0.2403079459782541])\n"
     ]
    }
   ],
   "source": [
    "# Preparing Training\n",
    "modelo_fit = modelo.fit(marketing_model_treino)\n",
    "print (modelo_fit.featureImportances)"
   ]
  },
  {
   "cell_type": "code",
   "execution_count": 21,
   "metadata": {},
   "outputs": [],
   "source": [
    "# Saving Model HDFS\n",
    "hdfs_path = \"/user/labdata/modelo_RFT\"\n",
    "modelo_fit.write().overwrite().save(hdfs_path)\n",
    "\n"
   ]
  },
  {
   "cell_type": "code",
   "execution_count": 22,
   "metadata": {},
   "outputs": [],
   "source": [
    "modelo_salvo = RandomForestClassificationModel.load(hdfs_path)"
   ]
  },
  {
   "cell_type": "code",
   "execution_count": 23,
   "metadata": {},
   "outputs": [],
   "source": [
    "# Running Prediction\n",
    "predict = modelo_salvo.transform(marketing_model_treino)"
   ]
  },
  {
   "cell_type": "code",
   "execution_count": 16,
   "metadata": {},
   "outputs": [
    {
     "data": {
      "text/html": [
       "<style scoped>\n",
       "  .ansiout {\n",
       "    display: block;\n",
       "    unicode-bidi: embed;\n",
       "    white-space: pre-wrap;\n",
       "    word-wrap: break-word;\n",
       "    word-break: break-all;\n",
       "    font-family: \"Source Code Pro\", \"Menlo\", monospace;;\n",
       "    font-size: 13px;\n",
       "    color: #555;\n",
       "    margin-left: 4px;\n",
       "    line-height: 19px;\n",
       "  }\n",
       "</style>\n",
       "<div class=\"ansiout\">+---+-------+-------+-----------+-------+-------+-------+---------+-----+-----------+--------+--------+-----+--------+-----------+------------+--------------+-------------+---------+-----------+-------+--------+---------------+------------+---------------+--------------+-----------------+------------+---------------+------------+---------------+---------+-------------+------------+---------------+----------+-------------+----------------+-------------------+-------------+----------------+------------+---------------+-----+--------------------+--------------------+--------------------+----------+\n",
       "age|    job|marital|  education|default|housing|   loan|  contact|month|day_of_week|duration|campaign|pdays|previous|   poutcome|emp_var_rate|cons_price_idx|cons_conf_idx|euribor3m|nr_employed|deposit|jobIndex|    jobclassVec|maritalIndex|maritalclassVec|educationIndex|educationclassVec|defaultIndex|defaultclassVec|housingIndex|housingclassVec|loanIndex| loanclassVec|contactIndex|contactclassVec|monthIndex|monthclassVec|day_of_weekIndex|day_of_weekclassVec|poutcomeIndex|poutcomeclassVec|depositIndex|depositclassVec|label|            features|       rawPrediction|         probability|prediction|\n",
       "+---+-------+-------+-----------+-------+-------+-------+---------+-----+-----------+--------+--------+-----+--------+-----------+------------+--------------+-------------+---------+-----------+-------+--------+---------------+------------+---------------+--------------+-----------------+------------+---------------+------------+---------------+---------+-------------+------------+---------------+----------+-------------+----------------+-------------------+-------------+----------------+------------+---------------+-----+--------------------+--------------------+--------------------+----------+\n",
       " 18|student| single|   basic.4y|     no|     no|     no| cellular|  apr|        thu|     108|       1|  999|       0|nonexistent|        -1.8|        93.075|        -47.1|    1.365|     5099.1|     no|    10.0|(11,[10],[1.0])|         1.0|  (3,[1],[1.0])|           4.0|    (7,[4],[1.0])|         0.0|  (2,[0],[1.0])|         1.0|  (2,[1],[1.0])|      0.0|(2,[0],[1.0])|         0.0|  (1,[0],[1.0])|       5.0|(9,[5],[1.0])|             0.0|      (4,[0],[1.0])|          0.0|   (2,[0],[1.0])|         0.0|  (1,[0],[1.0])|  0.0|(53,[10,12,18,21,...|[89.0701043154089...|[0.89070104315408...|       0.0|\n",
       " 18|student| single|   basic.4y|     no|    yes|    yes| cellular|  apr|        thu|     184|       2|  999|       0|nonexistent|        -1.8|        93.075|        -47.1|    1.365|     5099.1|     no|    10.0|(11,[10],[1.0])|         1.0|  (3,[1],[1.0])|           4.0|    (7,[4],[1.0])|         0.0|  (2,[0],[1.0])|         0.0|  (2,[0],[1.0])|      1.0|(2,[1],[1.0])|         0.0|  (1,[0],[1.0])|       5.0|(9,[5],[1.0])|             0.0|      (4,[0],[1.0])|          0.0|   (2,[0],[1.0])|         0.0|  (1,[0],[1.0])|  0.0|(53,[10,12,18,21,...|[88.1614910545486...|[0.88161491054548...|       0.0|\n",
       " 18|student| single|high.school|     no|     no|     no|telephone|  nov|        thu|      75|       1|  999|       0|nonexistent|        -0.1|          93.2|        -42.0|    4.245|     5195.8|     no|    10.0|(11,[10],[1.0])|         1.0|  (3,[1],[1.0])|           1.0|    (7,[1],[1.0])|         0.0|  (2,[0],[1.0])|         1.0|  (2,[1],[1.0])|      0.0|(2,[0],[1.0])|         1.0|      (1,[],[])|       4.0|(9,[4],[1.0])|             0.0|      (4,[0],[1.0])|          0.0|   (2,[0],[1.0])|         0.0|  (1,[0],[1.0])|  0.0|(53,[10,12,15,21,...|[93.5213641872117...|[0.93521364187211...|       0.0|\n",
       " 18|student| single|high.school|     no|    yes|    yes| cellular|  mar|        tue|     103|       1|  999|       0|nonexistent|        -1.8|        92.843|        -50.0|    1.687|     5099.1|     no|    10.0|(11,[10],[1.0])|         1.0|  (3,[1],[1.0])|           1.0|    (7,[1],[1.0])|         0.0|  (2,[0],[1.0])|         0.0|  (2,[0],[1.0])|      1.0|(2,[1],[1.0])|         0.0|  (1,[0],[1.0])|       8.0|(9,[8],[1.0])|             3.0|      (4,[3],[1.0])|          0.0|   (2,[0],[1.0])|         0.0|  (1,[0],[1.0])|  0.0|(53,[10,12,15,21,...|[81.2251155137767...|[0.81225115513776...|       0.0|\n",
       " 19|student| single|   basic.4y|     no|     no|    yes| cellular|  apr|        wed|     371|       2|  999|       0|nonexistent|        -1.8|        93.075|        -47.1|    1.405|     5099.1|    yes|    10.0|(11,[10],[1.0])|         1.0|  (3,[1],[1.0])|           4.0|    (7,[4],[1.0])|         0.0|  (2,[0],[1.0])|         1.0|  (2,[1],[1.0])|      1.0|(2,[1],[1.0])|         0.0|  (1,[0],[1.0])|       5.0|(9,[5],[1.0])|             2.0|      (4,[2],[1.0])|          0.0|   (2,[0],[1.0])|         1.0|      (1,[],[])|  1.0|(53,[10,12,18,21,...|[87.3896261662517...|[0.87389626166251...|       0.0|\n",
       " 19|student| single|   basic.6y|     no|     no|     no| cellular|  mar|        tue|     136|       1|  999|       0|nonexistent|        -1.8|        92.843|        -50.0|    1.556|     5099.1|    yes|    10.0|(11,[10],[1.0])|         1.0|  (3,[1],[1.0])|           5.0|    (7,[5],[1.0])|         0.0|  (2,[0],[1.0])|         1.0|  (2,[1],[1.0])|      0.0|(2,[0],[1.0])|         0.0|  (1,[0],[1.0])|       8.0|(9,[8],[1.0])|             3.0|      (4,[3],[1.0])|          0.0|   (2,[0],[1.0])|         1.0|      (1,[],[])|  1.0|(53,[10,12,19,21,...|[79.7554866896712...|[0.79755486689671...|       0.0|\n",
       " 19|student| single|   basic.9y|     no|     no|     no| cellular|  apr|        thu|     165|       3|  999|       0|nonexistent|        -1.8|        93.075|        -47.1|     1.41|     5099.1|     no|    10.0|(11,[10],[1.0])|         1.0|  (3,[1],[1.0])|           2.0|    (7,[2],[1.0])|         0.0|  (2,[0],[1.0])|         1.0|  (2,[1],[1.0])|      0.0|(2,[0],[1.0])|         0.0|  (1,[0],[1.0])|       5.0|(9,[5],[1.0])|             0.0|      (4,[0],[1.0])|          0.0|   (2,[0],[1.0])|         0.0|  (1,[0],[1.0])|  0.0|(53,[10,12,16,21,...|[89.2963410747740...|[0.89296341074774...|       0.0|\n",
       " 19|student| single|   basic.9y|unknown|    yes|     no| cellular|  jul|        mon|      87|       4|  999|       0|nonexistent|         1.4|        93.918|        -42.7|     4.96|     5228.1|     no|    10.0|(11,[10],[1.0])|         1.0|  (3,[1],[1.0])|           2.0|    (7,[2],[1.0])|         1.0|  (2,[1],[1.0])|         0.0|  (2,[0],[1.0])|      0.0|(2,[0],[1.0])|         0.0|  (1,[0],[1.0])|       1.0|(9,[1],[1.0])|             1.0|      (4,[1],[1.0])|          0.0|   (2,[0],[1.0])|         0.0|  (1,[0],[1.0])|  0.0|(53,[10,12,16,22,...|[94.3982232569771...|[0.94398223256977...|       0.0|\n",
       " 19|student| single|high.school|unknown|     no|    yes| cellular|  may|        tue|     106|       4|  999|       0|nonexistent|        -1.8|        92.893|        -46.2|    1.344|     5099.1|     no|    10.0|(11,[10],[1.0])|         1.0|  (3,[1],[1.0])|           1.0|    (7,[1],[1.0])|         1.0|  (2,[1],[1.0])|         1.0|  (2,[1],[1.0])|      1.0|(2,[1],[1.0])|         0.0|  (1,[0],[1.0])|       0.0|(9,[0],[1.0])|             3.0|      (4,[3],[1.0])|          0.0|   (2,[0],[1.0])|         0.0|  (1,[0],[1.0])|  0.0|(53,[10,12,15,22,...|[92.2052782437938...|[0.92205278243793...|       0.0|\n",
       " 19|student| single|high.school|unknown|    yes|     no| cellular|  may|        tue|     338|       4|  999|       0|nonexistent|        -1.8|        92.893|        -46.2|    1.344|     5099.1|     no|    10.0|(11,[10],[1.0])|         1.0|  (3,[1],[1.0])|           1.0|    (7,[1],[1.0])|         1.0|  (2,[1],[1.0])|         0.0|  (2,[0],[1.0])|      0.0|(2,[0],[1.0])|         0.0|  (1,[0],[1.0])|       0.0|(9,[0],[1.0])|             3.0|      (4,[3],[1.0])|          0.0|   (2,[0],[1.0])|         0.0|  (1,[0],[1.0])|  0.0|(53,[10,12,15,22,...|[91.3175301264966...|[0.91317530126496...|       0.0|\n",
       " 19|student| single|    unknown|     no|     no|     no| cellular|  apr|        fri|     108|       5|  999|       0|nonexistent|        -1.8|        93.075|        -47.1|    1.405|     5099.1|     no|    10.0|(11,[10],[1.0])|         1.0|  (3,[1],[1.0])|           6.0|    (7,[6],[1.0])|         0.0|  (2,[0],[1.0])|         1.0|  (2,[1],[1.0])|      0.0|(2,[0],[1.0])|         0.0|  (1,[0],[1.0])|       5.0|(9,[5],[1.0])|             4.0|          (4,[],[])|          0.0|   (2,[0],[1.0])|         0.0|  (1,[0],[1.0])|  0.0|(53,[10,12,20,21,...|[89.2747510601574...|[0.89274751060157...|       0.0|\n",
       " 19|student| single|    unknown|     no|unknown|unknown| cellular|  apr|        mon|     213|       3|  999|       0|nonexistent|        -1.8|        93.075|        -47.1|    1.405|     5099.1|    yes|    10.0|(11,[10],[1.0])|         1.0|  (3,[1],[1.0])|           6.0|    (7,[6],[1.0])|         0.0|  (2,[0],[1.0])|         2.0|      (2,[],[])|      2.0|    (2,[],[])|         0.0|  (1,[0],[1.0])|       5.0|(9,[5],[1.0])|             1.0|      (4,[1],[1.0])|          0.0|   (2,[0],[1.0])|         1.0|      (1,[],[])|  1.0|(53,[10,12,20,21,...|[88.1474968068203...|[0.88147496806820...|       0.0|\n",
       " 19|student| single|    unknown|     no|    yes|     no| cellular|  apr|        fri|     156|       1|  999|       0|nonexistent|        -1.8|        93.075|        -47.1|    1.405|     5099.1|    yes|    10.0|(11,[10],[1.0])|         1.0|  (3,[1],[1.0])|           6.0|    (7,[6],[1.0])|         0.0|  (2,[0],[1.0])|         0.0|  (2,[0],[1.0])|      0.0|(2,[0],[1.0])|         0.0|  (1,[0],[1.0])|       5.0|(9,[5],[1.0])|             4.0|          (4,[],[])|          0.0|   (2,[0],[1.0])|         1.0|      (1,[],[])|  1.0|(53,[10,12,20,21,...|[89.0206095437437...|[0.89020609543743...|       0.0|\n",
       " 19|student| single|    unknown|     no|    yes|     no| cellular|  apr|        fri|     452|       3|  999|       0|nonexistent|        -1.8|        93.075|        -47.1|    1.405|     5099.1|    yes|    10.0|(11,[10],[1.0])|         1.0|  (3,[1],[1.0])|           6.0|    (7,[6],[1.0])|         0.0|  (2,[0],[1.0])|         0.0|  (2,[0],[1.0])|      0.0|(2,[0],[1.0])|         0.0|  (1,[0],[1.0])|       5.0|(9,[5],[1.0])|             4.0|          (4,[],[])|          0.0|   (2,[0],[1.0])|         1.0|      (1,[],[])|  1.0|(53,[10,12,20,21,...|[85.4610755949567...|[0.85461075594956...|       0.0|\n",
       " 19|student| single|    unknown|     no|    yes|     no| cellular|  apr|        mon|     104|       3|  999|       0|nonexistent|        -1.8|        93.075|        -47.1|    1.405|     5099.1|     no|    10.0|(11,[10],[1.0])|         1.0|  (3,[1],[1.0])|           6.0|    (7,[6],[1.0])|         0.0|  (2,[0],[1.0])|         0.0|  (2,[0],[1.0])|      0.0|(2,[0],[1.0])|         0.0|  (1,[0],[1.0])|       5.0|(9,[5],[1.0])|             1.0|      (4,[1],[1.0])|          0.0|   (2,[0],[1.0])|         0.0|  (1,[0],[1.0])|  0.0|(53,[10,12,20,21,...|[89.1915898782313...|[0.89191589878231...|       0.0|\n",
       " 19|student| single|    unknown|     no|    yes|     no| cellular|  apr|        mon|     159|       2|  999|       0|nonexistent|        -1.8|        93.075|        -47.1|    1.405|     5099.1|     no|    10.0|(11,[10],[1.0])|         1.0|  (3,[1],[1.0])|           6.0|    (7,[6],[1.0])|         0.0|  (2,[0],[1.0])|         0.0|  (2,[0],[1.0])|      0.0|(2,[0],[1.0])|         0.0|  (1,[0],[1.0])|       5.0|(9,[5],[1.0])|             1.0|      (4,[1],[1.0])|          0.0|   (2,[0],[1.0])|         0.0|  (1,[0],[1.0])|  0.0|(53,[10,12,20,21,...|[89.0206095437437...|[0.89020609543743...|       0.0|\n",
       " 19|student| single|    unknown|     no|    yes|     no| cellular|  apr|        mon|     205|       1|  999|       1|    failure|        -1.8|        93.075|        -47.1|    1.405|     5099.1|    yes|    10.0|(11,[10],[1.0])|         1.0|  (3,[1],[1.0])|           6.0|    (7,[6],[1.0])|         0.0|  (2,[0],[1.0])|         0.0|  (2,[0],[1.0])|      0.0|(2,[0],[1.0])|         0.0|  (1,[0],[1.0])|       5.0|(9,[5],[1.0])|             1.0|      (4,[1],[1.0])|          1.0|   (2,[1],[1.0])|         1.0|      (1,[],[])|  1.0|(53,[10,12,20,21,...|[88.4492933790718...|[0.88449293379071...|       0.0|\n",
       " 19|student| single|    unknown|     no|    yes|     no| cellular|  apr|        mon|     438|       1|  999|       0|nonexistent|        -1.8|        93.075|        -47.1|    1.405|     5099.1|    yes|    10.0|(11,[10],[1.0])|         1.0|  (3,[1],[1.0])|           6.0|    (7,[6],[1.0])|         0.0|  (2,[0],[1.0])|         0.0|  (2,[0],[1.0])|      0.0|(2,[0],[1.0])|         0.0|  (1,[0],[1.0])|       5.0|(9,[5],[1.0])|             1.0|      (4,[1],[1.0])|          0.0|   (2,[0],[1.0])|         1.0|      (1,[],[])|  1.0|(53,[10,12,20,21,...|[85.4610755949567...|[0.85461075594956...|       0.0|\n",
       " 19|student| single|    unknown|     no|    yes|     no| cellular|  may|        mon|     121|       5|  999|       0|nonexistent|        -1.8|        92.893|        -46.2|    1.354|     5099.1|     no|    10.0|(11,[10],[1.0])|         1.0|  (3,[1],[1.0])|           6.0|    (7,[6],[1.0])|         0.0|  (2,[0],[1.0])|         0.0|  (2,[0],[1.0])|      0.0|(2,[0],[1.0])|         0.0|  (1,[0],[1.0])|       0.0|(9,[0],[1.0])|             1.0|      (4,[1],[1.0])|          0.0|   (2,[0],[1.0])|         0.0|  (1,[0],[1.0])|  0.0|(53,[10,12,20,21,...|[92.0128568629496...|[0.92012856862949...|       0.0|\n",
       " 19|student| single|    unknown|     no|    yes|     no|telephone|  apr|        tue|     396|       3|  999|       0|nonexistent|        -1.8|        93.075|        -47.1|    1.405|     5099.1|    yes|    10.0|(11,[10],[1.0])|         1.0|  (3,[1],[1.0])|           6.0|    (7,[6],[1.0])|         0.0|  (2,[0],[1.0])|         0.0|  (2,[0],[1.0])|      0.0|(2,[0],[1.0])|         1.0|      (1,[],[])|       5.0|(9,[5],[1.0])|             3.0|      (4,[3],[1.0])|          0.0|   (2,[0],[1.0])|         1.0|      (1,[],[])|  1.0|(53,[10,12,20,21,...|[87.5248539650293...|[0.87524853965029...|       0.0|\n",
       "+---+-------+-------+-----------+-------+-------+-------+---------+-----+-----------+--------+--------+-----+--------+-----------+------------+--------------+-------------+---------+-----------+-------+--------+---------------+------------+---------------+--------------+-----------------+------------+---------------+------------+---------------+---------+-------------+------------+---------------+----------+-------------+----------------+-------------------+-------------+----------------+------------+---------------+-----+--------------------+--------------------+--------------------+----------+\n",
       "only showing top 20 rows\n",
       "\n",
       "</div>"
      ]
     },
     "metadata": {},
     "output_type": "display_data"
    }
   ],
   "source": [
    "predict.show()"
   ]
  },
  {
   "cell_type": "code",
   "execution_count": 24,
   "metadata": {},
   "outputs": [],
   "source": [
    "exibe_colunas = predict.select(['age','probability','label','prediction'])"
   ]
  },
  {
   "cell_type": "code",
   "execution_count": 25,
   "metadata": {},
   "outputs": [
    {
     "name": "stdout",
     "output_type": "stream",
     "text": [
      "+---+--------------------+-----+----------+\n",
      "|age|         probability|label|prediction|\n",
      "+---+--------------------+-----+----------+\n",
      "| 18|[0.77454038145034...|  0.0|       0.0|\n",
      "| 18|[0.77126954811700...|  0.0|       0.0|\n",
      "| 18|[0.93229045760570...|  0.0|       0.0|\n",
      "| 18|[0.69587427804269...|  0.0|       0.0|\n",
      "| 19|[0.80773746982928...|  1.0|       0.0|\n",
      "| 19|[0.66840544485366...|  1.0|       0.0|\n",
      "| 19|[0.81160853535051...|  0.0|       0.0|\n",
      "| 19|[0.80833780760600...|  1.0|       0.0|\n",
      "| 19|[0.68527055498378...|  1.0|       0.0|\n",
      "| 19|[0.93690136560285...|  0.0|       0.0|\n",
      "| 19|[0.80784561318732...|  1.0|       0.0|\n",
      "| 19|[0.80784550759851...|  1.0|       0.0|\n",
      "| 19|[0.80614291425943...|  1.0|       0.0|\n",
      "| 19|[0.80614280867061...|  0.0|       0.0|\n",
      "| 19|[0.87714957827532...|  0.0|       0.0|\n",
      "| 19|[0.80844698062204...|  0.0|       0.0|\n",
      "| 19|[0.80739235232994...|  1.0|       0.0|\n",
      "| 19|[0.80866507726509...|  0.0|       0.0|\n",
      "| 19|[0.80614291425943...|  1.0|       0.0|\n",
      "| 20|[0.94200469061399...|  0.0|       0.0|\n",
      "+---+--------------------+-----+----------+\n",
      "only showing top 20 rows\n",
      "\n"
     ]
    }
   ],
   "source": [
    "exibe_colunas.show()"
   ]
  },
  {
   "cell_type": "code",
   "execution_count": 26,
   "metadata": {},
   "outputs": [],
   "source": [
    "##\n",
    "results = predict.select(['probability', 'label'])"
   ]
  },
  {
   "cell_type": "code",
   "execution_count": 27,
   "metadata": {},
   "outputs": [],
   "source": [
    "# Persiste Modelo Na Base\n",
    "import pyspark\n",
    "df_writer = pyspark.sql.DataFrameWriter(predict)\n",
    "df_writer.saveAsTable('default.random_forest_output', format='parquet', mode='overwrite')"
   ]
  },
  {
   "cell_type": "code",
   "execution_count": 28,
   "metadata": {},
   "outputs": [
    {
     "name": "stdout",
     "output_type": "stream",
     "text": [
      "+---+-------+-------+-----------+-------+-------+----+---------+-----+-----------+--------+-----+--------+-----------+------------+--------------+-------------+---------+-----------+---+--------+---------------+------------+---------------+--------------+-----------------+------------+---------------+------------+---------------+---------+-------------+------------+---------------+----------+-------------+----------------+-------------------+-------------+----------------+------+-------------+-----+--------------------+--------------------+--------------------+----------+\n",
      "|age|    job|marital|  education|default|housing|loan|  contact|month|day_of_week|campaign|pdays|previous|   poutcome|emp_var_rate|cons_price_idx|cons_conf_idx|euribor3m|nr_employed|  y|jobIndex|    jobclassVec|maritalIndex|maritalclassVec|educationIndex|educationclassVec|defaultIndex|defaultclassVec|housingIndex|housingclassVec|loanIndex| loanclassVec|contactIndex|contactclassVec|monthIndex|monthclassVec|day_of_weekIndex|day_of_weekclassVec|poutcomeIndex|poutcomeclassVec|yIndex|    yclassVec|label|            features|       rawPrediction|         probability|prediction|\n",
      "+---+-------+-------+-----------+-------+-------+----+---------+-----+-----------+--------+-----+--------+-----------+------------+--------------+-------------+---------+-----------+---+--------+---------------+------------+---------------+--------------+-----------------+------------+---------------+------------+---------------+---------+-------------+------------+---------------+----------+-------------+----------------+-------------------+-------------+----------------+------+-------------+-----+--------------------+--------------------+--------------------+----------+\n",
      "| 18|student| single|   basic.4y|     no|     no|  no| cellular|  apr|        thu|       1|  999|       0|nonexistent|        -1.8|        93.075|        -47.1|    1.365|     5099.1| no|    10.0|(11,[10],[1.0])|         1.0|  (3,[1],[1.0])|           4.0|    (7,[4],[1.0])|         0.0|  (2,[0],[1.0])|         1.0|  (2,[1],[1.0])|      0.0|(2,[0],[1.0])|         0.0|  (1,[0],[1.0])|       5.0|(9,[5],[1.0])|             0.0|      (4,[0],[1.0])|          0.0|   (2,[0],[1.0])|   0.0|(1,[0],[1.0])|  0.0|(48,[10,12,18,21,...|[0.04307364684827...|[0.52152351393164...|       0.0|\n",
      "| 18|student| single|high.school|     no|     no|  no|telephone|  nov|        thu|       1|  999|       0|nonexistent|        -0.1|          93.2|        -42.0|    4.245|     5195.8| no|    10.0|(11,[10],[1.0])|         1.0|  (3,[1],[1.0])|           1.0|    (7,[1],[1.0])|         0.0|  (2,[0],[1.0])|         1.0|  (2,[1],[1.0])|      0.0|(2,[0],[1.0])|         1.0|      (1,[],[])|       4.0|(9,[4],[1.0])|             0.0|      (4,[0],[1.0])|          0.0|   (2,[0],[1.0])|   0.0|(1,[0],[1.0])|  0.0|(48,[10,12,15,21,...|[0.31948210184275...|[0.65451927991748...|       0.0|\n",
      "| 19|student| single|   basic.4y|     no|     no| yes| cellular|  apr|        wed|       2|  999|       0|nonexistent|        -1.8|        93.075|        -47.1|    1.405|     5099.1|yes|    10.0|(11,[10],[1.0])|         1.0|  (3,[1],[1.0])|           4.0|    (7,[4],[1.0])|         0.0|  (2,[0],[1.0])|         1.0|  (2,[1],[1.0])|      1.0|(2,[1],[1.0])|         0.0|  (1,[0],[1.0])|       5.0|(9,[5],[1.0])|             2.0|      (4,[2],[1.0])|          0.0|   (2,[0],[1.0])|   1.0|    (1,[],[])|  1.0|(48,[10,12,18,21,...|[0.43593867527692...|[0.70513618538784...|       0.0|\n",
      "| 19|student| single|   basic.9y|     no|    yes|  no| cellular|  apr|        tue|       1|  999|       0|nonexistent|        -1.8|        93.075|        -47.1|    1.453|     5099.1|yes|    10.0|(11,[10],[1.0])|         1.0|  (3,[1],[1.0])|           2.0|    (7,[2],[1.0])|         0.0|  (2,[0],[1.0])|         0.0|  (2,[0],[1.0])|      0.0|(2,[0],[1.0])|         0.0|  (1,[0],[1.0])|       5.0|(9,[5],[1.0])|             3.0|      (4,[3],[1.0])|          0.0|   (2,[0],[1.0])|   1.0|    (1,[],[])|  1.0|(48,[10,12,16,21,...|[0.23373129570934...|[0.61478301024820...|       0.0|\n",
      "| 19|student| single|   basic.9y|     no|    yes|  no| cellular|  mar|        fri|       4|  999|       0|nonexistent|        -1.8|        92.843|        -50.0|     1.64|     5099.1|yes|    10.0|(11,[10],[1.0])|         1.0|  (3,[1],[1.0])|           2.0|    (7,[2],[1.0])|         0.0|  (2,[0],[1.0])|         0.0|  (2,[0],[1.0])|      0.0|(2,[0],[1.0])|         0.0|  (1,[0],[1.0])|       8.0|(9,[8],[1.0])|             4.0|          (4,[],[])|          0.0|   (2,[0],[1.0])|   1.0|    (1,[],[])|  1.0|(48,[10,12,16,21,...|[-0.5246968906059...|[0.25934152845510...|       1.0|\n",
      "| 19|student| single|   basic.9y|unknown|    yes|  no| cellular|  jul|        mon|       4|  999|       0|nonexistent|         1.4|        93.918|        -42.7|     4.96|     5228.1| no|    10.0|(11,[10],[1.0])|         1.0|  (3,[1],[1.0])|           2.0|    (7,[2],[1.0])|         1.0|  (2,[1],[1.0])|         0.0|  (2,[0],[1.0])|      0.0|(2,[0],[1.0])|         0.0|  (1,[0],[1.0])|       1.0|(9,[1],[1.0])|             1.0|      (4,[1],[1.0])|          0.0|   (2,[0],[1.0])|   0.0|(1,[0],[1.0])|  0.0|(48,[10,12,16,22,...|[1.34508444647432...|[0.93644403434081...|       0.0|\n",
      "| 19|student| single|high.school|unknown|     no| yes| cellular|  may|        tue|       4|  999|       0|nonexistent|        -1.8|        92.893|        -46.2|    1.344|     5099.1| no|    10.0|(11,[10],[1.0])|         1.0|  (3,[1],[1.0])|           1.0|    (7,[1],[1.0])|         1.0|  (2,[1],[1.0])|         1.0|  (2,[1],[1.0])|      1.0|(2,[1],[1.0])|         0.0|  (1,[0],[1.0])|       0.0|(9,[0],[1.0])|             3.0|      (4,[3],[1.0])|          0.0|   (2,[0],[1.0])|   0.0|(1,[0],[1.0])|  0.0|(48,[10,12,15,22,...|[1.39691310992422...|[0.94234129145127...|       0.0|\n",
      "| 19|student| single|high.school|unknown|    yes|  no| cellular|  may|        tue|       4|  999|       0|nonexistent|        -1.8|        92.893|        -46.2|    1.344|     5099.1| no|    10.0|(11,[10],[1.0])|         1.0|  (3,[1],[1.0])|           1.0|    (7,[1],[1.0])|         1.0|  (2,[1],[1.0])|         0.0|  (2,[0],[1.0])|      0.0|(2,[0],[1.0])|         0.0|  (1,[0],[1.0])|       0.0|(9,[0],[1.0])|             3.0|      (4,[3],[1.0])|          0.0|   (2,[0],[1.0])|   0.0|(1,[0],[1.0])|  0.0|(48,[10,12,15,22,...|[1.42048650752452...|[0.94485018634027...|       0.0|\n",
      "| 19|student| single|    unknown|     no|     no|  no| cellular|  apr|        fri|       5|  999|       0|nonexistent|        -1.8|        93.075|        -47.1|    1.405|     5099.1| no|    10.0|(11,[10],[1.0])|         1.0|  (3,[1],[1.0])|           6.0|    (7,[6],[1.0])|         0.0|  (2,[0],[1.0])|         1.0|  (2,[1],[1.0])|      0.0|(2,[0],[1.0])|         0.0|  (1,[0],[1.0])|       5.0|(9,[5],[1.0])|             4.0|          (4,[],[])|          0.0|   (2,[0],[1.0])|   0.0|(1,[0],[1.0])|  0.0|(48,[10,12,20,21,...|[0.22645252896210...|[0.61132971508428...|       0.0|\n",
      "| 19|student| single|    unknown|     no|    yes|  no| cellular|  apr|        fri|       1|  999|       0|nonexistent|        -1.8|        93.075|        -47.1|    1.405|     5099.1|yes|    10.0|(11,[10],[1.0])|         1.0|  (3,[1],[1.0])|           6.0|    (7,[6],[1.0])|         0.0|  (2,[0],[1.0])|         0.0|  (2,[0],[1.0])|      0.0|(2,[0],[1.0])|         0.0|  (1,[0],[1.0])|       5.0|(9,[5],[1.0])|             4.0|          (4,[],[])|          0.0|   (2,[0],[1.0])|   1.0|    (1,[],[])|  1.0|(48,[10,12,20,21,...|[0.11917949252400...|[0.55930920738797...|       0.0|\n",
      "| 19|student| single|    unknown|     no|    yes|  no| cellular|  apr|        fri|       3|  999|       0|nonexistent|        -1.8|        93.075|        -47.1|    1.405|     5099.1|yes|    10.0|(11,[10],[1.0])|         1.0|  (3,[1],[1.0])|           6.0|    (7,[6],[1.0])|         0.0|  (2,[0],[1.0])|         0.0|  (2,[0],[1.0])|      0.0|(2,[0],[1.0])|         0.0|  (1,[0],[1.0])|       5.0|(9,[5],[1.0])|             4.0|          (4,[],[])|          0.0|   (2,[0],[1.0])|   1.0|    (1,[],[])|  1.0|(48,[10,12,20,21,...|[0.17457726672825...|[0.58641254047973...|       0.0|\n",
      "| 19|student| single|    unknown|     no|    yes|  no| cellular|  apr|        mon|       1|  999|       0|nonexistent|        -1.8|        93.075|        -47.1|    1.405|     5099.1|yes|    10.0|(11,[10],[1.0])|         1.0|  (3,[1],[1.0])|           6.0|    (7,[6],[1.0])|         0.0|  (2,[0],[1.0])|         0.0|  (2,[0],[1.0])|      0.0|(2,[0],[1.0])|         0.0|  (1,[0],[1.0])|       5.0|(9,[5],[1.0])|             1.0|      (4,[1],[1.0])|          0.0|   (2,[0],[1.0])|   1.0|    (1,[],[])|  1.0|(48,[10,12,20,21,...|[0.11917949252400...|[0.55930920738797...|       0.0|\n",
      "| 19|student| single|    unknown|     no|    yes|  no| cellular|  apr|        mon|       1|  999|       1|    failure|        -1.8|        93.075|        -47.1|    1.405|     5099.1|yes|    10.0|(11,[10],[1.0])|         1.0|  (3,[1],[1.0])|           6.0|    (7,[6],[1.0])|         0.0|  (2,[0],[1.0])|         0.0|  (2,[0],[1.0])|      0.0|(2,[0],[1.0])|         0.0|  (1,[0],[1.0])|       5.0|(9,[5],[1.0])|             1.0|      (4,[1],[1.0])|          1.0|   (2,[1],[1.0])|   1.0|    (1,[],[])|  1.0|(48,[10,12,20,21,...|[-0.0971700903028...|[0.45156729328149...|       1.0|\n",
      "| 19|student| single|    unknown|     no|    yes|  no| cellular|  apr|        mon|       2|  999|       0|nonexistent|        -1.8|        93.075|        -47.1|    1.405|     5099.1| no|    10.0|(11,[10],[1.0])|         1.0|  (3,[1],[1.0])|           6.0|    (7,[6],[1.0])|         0.0|  (2,[0],[1.0])|         0.0|  (2,[0],[1.0])|      0.0|(2,[0],[1.0])|         0.0|  (1,[0],[1.0])|       5.0|(9,[5],[1.0])|             1.0|      (4,[1],[1.0])|          0.0|   (2,[0],[1.0])|   0.0|(1,[0],[1.0])|  0.0|(48,[10,12,20,21,...|[0.17457726672825...|[0.58641254047973...|       0.0|\n",
      "| 19|student| single|    unknown|     no|    yes|  no| cellular|  apr|        mon|       3|  999|       0|nonexistent|        -1.8|        93.075|        -47.1|    1.405|     5099.1| no|    10.0|(11,[10],[1.0])|         1.0|  (3,[1],[1.0])|           6.0|    (7,[6],[1.0])|         0.0|  (2,[0],[1.0])|         0.0|  (2,[0],[1.0])|      0.0|(2,[0],[1.0])|         0.0|  (1,[0],[1.0])|       5.0|(9,[5],[1.0])|             1.0|      (4,[1],[1.0])|          0.0|   (2,[0],[1.0])|   0.0|(1,[0],[1.0])|  0.0|(48,[10,12,20,21,...|[0.17457726672825...|[0.58641254047973...|       0.0|\n",
      "| 19|student| single|    unknown|     no|    yes|  no| cellular|  may|        mon|       5|  999|       0|nonexistent|        -1.8|        92.893|        -46.2|    1.354|     5099.1| no|    10.0|(11,[10],[1.0])|         1.0|  (3,[1],[1.0])|           6.0|    (7,[6],[1.0])|         0.0|  (2,[0],[1.0])|         0.0|  (2,[0],[1.0])|      0.0|(2,[0],[1.0])|         0.0|  (1,[0],[1.0])|       0.0|(9,[0],[1.0])|             1.0|      (4,[1],[1.0])|          0.0|   (2,[0],[1.0])|   0.0|(1,[0],[1.0])|  0.0|(48,[10,12,20,21,...|[0.75562566347364...|[0.81924657940007...|       0.0|\n",
      "| 19|student| single|    unknown|     no|    yes|  no|telephone|  apr|        fri|       5|  999|       0|nonexistent|        -1.8|        93.075|        -47.1|    1.405|     5099.1| no|    10.0|(11,[10],[1.0])|         1.0|  (3,[1],[1.0])|           6.0|    (7,[6],[1.0])|         0.0|  (2,[0],[1.0])|         0.0|  (2,[0],[1.0])|      0.0|(2,[0],[1.0])|         1.0|      (1,[],[])|       5.0|(9,[5],[1.0])|             4.0|          (4,[],[])|          0.0|   (2,[0],[1.0])|   0.0|(1,[0],[1.0])|  0.0|(48,[10,12,20,21,...|[0.35593566915813...|[0.67081452523563...|       0.0|\n",
      "| 19|student| single|    unknown|     no|    yes|  no|telephone|  apr|        tue|       3|  999|       0|nonexistent|        -1.8|        93.075|        -47.1|    1.405|     5099.1|yes|    10.0|(11,[10],[1.0])|         1.0|  (3,[1],[1.0])|           6.0|    (7,[6],[1.0])|         0.0|  (2,[0],[1.0])|         0.0|  (2,[0],[1.0])|      0.0|(2,[0],[1.0])|         1.0|      (1,[],[])|       5.0|(9,[5],[1.0])|             3.0|      (4,[3],[1.0])|          0.0|   (2,[0],[1.0])|   1.0|    (1,[],[])|  1.0|(48,[10,12,20,21,...|[0.26647935454246...|[0.63017291911784...|       0.0|\n",
      "| 19|student| single|    unknown|     no|    yes| yes| cellular|  apr|        fri|       4|  999|       0|nonexistent|        -1.8|        93.075|        -47.1|    1.405|     5099.1| no|    10.0|(11,[10],[1.0])|         1.0|  (3,[1],[1.0])|           6.0|    (7,[6],[1.0])|         0.0|  (2,[0],[1.0])|         0.0|  (2,[0],[1.0])|      1.0|(2,[1],[1.0])|         0.0|  (1,[0],[1.0])|       5.0|(9,[5],[1.0])|             4.0|          (4,[],[])|          0.0|   (2,[0],[1.0])|   0.0|(1,[0],[1.0])|  0.0|(48,[10,12,20,21,...|[0.20228849697835...|[0.59978683368606...|       0.0|\n",
      "| 19|student| single|    unknown|     no|    yes| yes| cellular|  apr|        tue|       3|  999|       0|nonexistent|        -1.8|        93.075|        -47.1|    1.405|     5099.1|yes|    10.0|(11,[10],[1.0])|         1.0|  (3,[1],[1.0])|           6.0|    (7,[6],[1.0])|         0.0|  (2,[0],[1.0])|         0.0|  (2,[0],[1.0])|      1.0|(2,[1],[1.0])|         0.0|  (1,[0],[1.0])|       5.0|(9,[5],[1.0])|             3.0|      (4,[3],[1.0])|          0.0|   (2,[0],[1.0])|   1.0|    (1,[],[])|  1.0|(48,[10,12,20,21,...|[0.17174636228977...|[0.58503869722271...|       0.0|\n",
      "+---+-------+-------+-----------+-------+-------+----+---------+-----+-----------+--------+-----+--------+-----------+------------+--------------+-------------+---------+-----------+---+--------+---------------+------------+---------------+--------------+-----------------+------------+---------------+------------+---------------+---------+-------------+------------+---------------+----------+-------------+----------------+-------------------+-------------+----------------+------+-------------+-----+--------------------+--------------------+--------------------+----------+\n",
      "only showing top 20 rows\n",
      "\n"
     ]
    }
   ],
   "source": [
    "#\n",
    "spark.sql(\"SELECT * FROM default.boosting_output\").show()"
   ]
  },
  {
   "cell_type": "code",
   "execution_count": 29,
   "metadata": {},
   "outputs": [],
   "source": [
    "results_collect = results.collect()\n",
    "results_list = [(float(i[0][0]), 1.0-float(i[1])) for i in results_collect]\n",
    "scoreAndLabels = sc.parallelize(results_list)"
   ]
  },
  {
   "cell_type": "code",
   "execution_count": 30,
   "metadata": {},
   "outputs": [
    {
     "name": "stdout",
     "output_type": "stream",
     "text": [
      "AUC (numTrees=100):  0.8040772169758128\n"
     ]
    }
   ],
   "source": [
    "metrics = metric(scoreAndLabels)\n",
    "print(\"AUC (numTrees=100): \", metrics.areaUnderROC)"
   ]
  },
  {
   "cell_type": "code",
   "execution_count": 31,
   "metadata": {},
   "outputs": [
    {
     "data": {
      "image/png": "[encoded data removed]",
      "text/plain": [
       "<Figure size 432x288 with 1 Axes>"
      ]
     },
     "metadata": {
      "needs_background": "light"
     },
     "output_type": "display_data"
    }
   ],
   "source": [
    "from sklearn.metrics import roc_curve, auc\n",
    "from matplotlib import pyplot as plt\n",
    " \n",
    "fpr = dict()\n",
    "tpr = dict()\n",
    "roc_auc = dict()\n",
    " \n",
    "y_test = [i[1] for i in results_list]\n",
    "y_score = [i[0] for i in results_list]\n",
    " \n",
    "fpr, tpr, _ = roc_curve(y_test, y_score)\n",
    "roc_auc = auc(fpr, tpr)\n",
    " \n",
    "get_ipython().run_line_magic('matplotlib', 'inline')\n",
    "plt.figure()\n",
    "plt.plot(fpr, tpr, label='ROC curve (area = %0.2f)' % roc_auc)\n",
    "plt.plot([0, 1], [0, 1], 'k--')\n",
    "plt.xlim([0.0, 1.0])\n",
    "plt.ylim([0.0, 1.05])\n",
    "plt.xlabel('False Positive Rate')\n",
    "plt.ylabel('True Positive Rate')\n",
    "plt.title('Receiver operating characteristic example')\n",
    "plt.legend(loc=\"lower right\")\n",
    "plt.show()\n",
    "display()"
   ]
  },
  {
   "cell_type": "code",
   "execution_count": 32,
   "metadata": {},
   "outputs": [
    {
     "name": "stdout",
     "output_type": "stream",
     "text": [
      "Taxa de Acerto:  90.01 %\n"
     ]
    }
   ],
   "source": [
    "import pyspark.sql.functions as func\n",
    "pred_results = predict.withColumn('compara', func.when(func.col(\"label\") == func.col(\"prediction\"), \"Y\").otherwise(\"N\"))\n",
    "print(\"Taxa de Acerto: \", round(pred_results[pred_results['compara']=='Y'].count() / pred_results.count() * 100, 2),\"%\")"
   ]
  },
  {
   "cell_type": "code",
   "execution_count": null,
   "metadata": {},
   "outputs": [],
   "source": []
  }
 ],
 "metadata": {
  "kernelspec": {
   "display_name": "Python 3",
   "language": "python",
   "name": "python3"
  },
  "language_info": {
   "codemirror_mode": {
    "name": "ipython",
    "version": 3
   },
   "file_extension": ".py",
   "mimetype": "text/x-python",
   "name": "python",
   "nbconvert_exporter": "python",
   "pygments_lexer": "ipython3",
   "version": "3.6.3"
  },
  "name": "Projeto_Grupo_2_RandomForest",
  "notebookId": 3542392003137524
 },
 "nbformat": 4,
 "nbformat_minor": 1
}
